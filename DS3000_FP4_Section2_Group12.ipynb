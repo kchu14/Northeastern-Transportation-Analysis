{
 "cells": [
  {
   "cell_type": "markdown",
   "metadata": {
    "colab_type": "text",
    "id": "osRx8CLo6ARD"
   },
   "source": [
    "<center> <h2> DS 3000 - Fall 2019</h2> </center>\n",
    "<center> <h3> DS Report </h3> </center>\n"
   ]
  },
  {
   "cell_type": "markdown",
   "metadata": {
    "colab_type": "text",
    "id": "ONWPvHJl6ARF"
   },
   "source": [
    "<center> <h1> Northeastern Transportation Analysis</h1> </center>\n",
    "<center><h4>Benjamin Jacobson, Divit Koradia, Kyle Chu</h4></center>\n"
   ]
  },
  {
   "cell_type": "markdown",
   "metadata": {
    "colab_type": "text",
    "id": "Ip8rLjrw6ARF"
   },
   "source": [
    "\n",
    "\n",
    "  "
   ]
  },
  {
   "cell_type": "markdown",
   "metadata": {
    "colab_type": "text",
    "id": "QA0PyejY6ARG"
   },
   "source": [
    "<hr style=\"height:2px; border:none; color:black; background-color:black;\">"
   ]
  },
  {
   "cell_type": "markdown",
   "metadata": {
    "colab_type": "text",
    "id": "VhLJ1Xot6ARG"
   },
   "source": [
    "#### Executive Summary:\n",
    "\n",
    "Add your summary here (100-150 words)\n",
    "\n",
    "Provide a brief summary of your project. After reading this executive summary, your readers should have a rough understanding of what you did in this project. You can think of this summary in terms of the four sections of the report and write 1-2 sentences describing each section.\n",
    "\n"
   ]
  },
  {
   "cell_type": "markdown",
   "metadata": {
    "colab_type": "text",
    "id": "u2b-SS807KAC"
   },
   "source": [
    " Have you ever wondered what is the best way to get from Mission Hill to Northeastern campus and vice versa? When you’re in a rush calculating the time and cost of different transportation types can be tedious. Our goal is to find an answer to the best transportation type in terms of speed and cost. We will be looking at MBTA, Uber, and Bluebikes. We will be comparing the average time and cost it takes people to make it from Mission Hill to Northeastern and vice versa. Our datasets are pulled from the different transportation types websites. The data includes the time it takes to complete trips, so for Uber the time from pickup to drop off, Bluebikes it’s time for a rider to go from one station to another, and for MBTA Roxbury Crossing to Ruggles and Brigham Circle to Northeastern. Bluebikes and Uber also have the cost of each trip. MBTA and Bluebikes also have the option for a fixed cost ride structure where you can pay one price for the whole trip or use a monthly or yearly pass. We plan to measure from a point on campus to a point on Mission Hill. We will take into account average / estimated walking speeds from a station to the point.\n"
   ]
  },
  {
   "cell_type": "markdown",
   "metadata": {
    "colab_type": "text",
    "id": "1iP4g7zA6ARH"
   },
   "source": [
    "<hr style=\"height:2px; border:none; color:black; background-color:black;\">"
   ]
  },
  {
   "cell_type": "markdown",
   "metadata": {
    "colab_type": "text",
    "id": "boTet8OY6ARH"
   },
   "source": [
    "## Outline\n",
    "1. <a href='#1'>INTRODUCTION</a>\n",
    "2. <a href='#2'>METHOD</a>\n",
    "3. <a href='#3'>RESULTS</a>\n",
    "4. <a href='#4'>DISCUSSION</a>"
   ]
  },
  {
   "cell_type": "markdown",
   "metadata": {
    "colab_type": "text",
    "id": "Z-2Trmbo6ARH"
   },
   "source": [
    "<a id=\"1\"></a>\n",
    "<hr style=\"height:2px; border:none; color:black; background-color:black;\">"
   ]
  },
  {
   "cell_type": "markdown",
   "metadata": {
    "colab_type": "text",
    "id": "lNZem1t06ARI"
   },
   "source": [
    "## 1. INTRODUCTION"
   ]
  },
  {
   "cell_type": "markdown",
   "metadata": {
    "colab_type": "text",
    "id": "jok0VLR_6ARI"
   },
   "source": [
    "In this section, orient your readers to your project. You've already written some of these in previous deliverables. Based on your final analysis, revise your problem statement and write a concise introduction section. This section should touch upon the following points, but should be written in full paragraphs. Your writing should incorporate all of these points (and more if you like) in a coherent way. Remember that you are trying to convince your readers that this is an important problem to tackle. \n",
    "\n",
    "Problem Statement\n",
    "* Describe the problem you would like to tackle.   \n",
    "* What is the topic of your project? \n",
    "* What do you want to learn about it?    \n",
    "    - We want to find the best transportation method between Northeastern and Mission Hill. Lots of students live off campus near mission hill, so we'd like to help them get to campus more effectively. \n",
    "    - Transportation between two points, based on personal preferences. \n",
    "    - Depending on the person, which mode of transportation would be the most effective for them to get to campus. \n",
    "\n",
    "\n",
    "Significance of the Problem\n",
    "* Why is it important to tackle this problem in your project?\n",
    "* In what ways could the insights from this project be useful?\n",
    "* Has there been previous work on your topic? Do some research into your topic. Cite your sources appropriately. You can use the numbered reference format or APA (if you are more comfortable with it).\n",
    "\n",
    "     - It's important for us to find the best mode of transportation for each individual person as Northeastern has a very large demographic of students living/commuting to and from Mission Hill. Based on how prospective users value time, money, distance, and wait-time, we'd like to show which mode of transportation would be best fit. There hasn't been previous work on our topic. The most similar reasearch has been in estimating prices in Boston, but not choosing optimal modes of transportation. \n",
    "     - \n",
    "\n",
    "Questions/Hypothesis\n",
    "* End this section with a list of questions and hypotheses\n",
    "* You should tie these questions/hypotheses to the problem statement and its significance\n",
    "    * e.g. Given the aforementioned problem and its importance, we set out to tackle the following questions:\n",
    "    \n",
    "    \n",
    "    Which mode of transportation is best:\n",
    "    Which mode of transportation has the lowest average wait time for rides?\n",
    "    Which mode of transportation has the lowest average trip time from point A to point B?\n",
    "    Which mode of transportation has the least amount of walking on average?\n",
    "    Which mode of transportation has the lowest average cost?\n",
    "\n",
    "    \n",
    "    H0: MBTA >= Uber and Bluebikes\n",
    "    H1: MBTA < Uber and Bluebikes\n",
    "    The average cost for a trip will be lowest for MBTA and highest for Uber(Cost / Distance, Cost / Time) \n",
    "\n",
    "    H0: Bluebikes >= MBTA and Bluebikes\n",
    "    H1: Bluebikes < MBTA and Bluebikes\n",
    "    Average total commute time will be lowest for Bluebike and highest for MBTA\n",
    "\n",
    "    H0: Uber >= MBTA and Bluebikes\n",
    "    H1: Uber < MBTA and Bluebikes\n",
    "    Average walking time will be lowest for Uber and highest for MBTA\n",
    "\n",
    "    H0: Bluebikes >= MBTA and Uber\n",
    "    H1: Bluebikes < MBTA and Uber\n",
    "    Average wait time will be lowest for Bluebikes and highest for MBTA\n",
    "\n",
    "\n",
    "**Requirement:**\n",
    "* You should have at least one question tapping into the comparison of various machine learning algorithms in predicting your target variable from your features variables."
   ]
  },
  {
   "cell_type": "code",
   "execution_count": null,
   "metadata": {},
   "outputs": [],
   "source": []
  },
  {
   "cell_type": "markdown",
   "metadata": {
    "colab_type": "text",
    "id": "1JGgr0ZW6ARJ"
   },
   "source": [
    "<a id=\"2\"></a>\n",
    "<hr style=\"height:2px; border:none; color:black; background-color:black;\">"
   ]
  },
  {
   "cell_type": "markdown",
   "metadata": {
    "colab_type": "text",
    "id": "8z7TxRur6ARJ"
   },
   "source": [
    "## 2. METHOD"
   ]
  },
  {
   "cell_type": "markdown",
   "metadata": {
    "colab_type": "text",
    "id": "E_OPQa0I6ARK"
   },
   "source": [
    "### 2.1. Data Acquisition\n",
    "\n",
    "* Describe where you obtained your data. Provide a link to the original source. \n",
    "* If you scraped your data, include your code as a script file.\n",
    "* Your data should be stored in an online repository (e.g., GitHub) and your code should retrieve your data from that online resource. You can read csv files from the Web in the same way that you read files from local drive.\n",
    "* Describe the dataset and variables. What do variables represent?\n"
   ]
  },
  {
   "cell_type": "code",
   "execution_count": null,
   "metadata": {},
   "outputs": [],
   "source": [
    "https://www.ctps.org/apps/mbtasurvey2018/#navButton\n",
    "    \n",
    "    \n",
    "https://www.bluebikes.com/system-data\n",
    "    \n",
    "https://movement.uber.com/explore/boston/travel-times/query?si=302&ti=1118&ag=censustracts&dt[tpb]=ALL_DAY&dt[wd;]=1,2,3,4,5,6,7&dt[dr][sd]=2019-06-01&dt[dr][ed]=2019-06-30&cd=&sa;=-71.0908821,42.3391989&sdn=Northeastern%20University%20School%20of%20Law,%20416%20Huntington%20Ave,%20Boston,%20MA&lng.=-71.2121505&lat.=42.3599474&z.=11.49&ta;=-71.0993596,42.3330516&tdn=Mission%20Hill%20Playground,%20Boston,%20MA&lang=en-US\n",
    "#NEU to Mission Hill\n",
    "\n",
    "\n"
   ]
  },
  {
   "cell_type": "markdown",
   "metadata": {
    "colab_type": "text",
    "id": "qBu9v-HN6ARK"
   },
   "source": [
    "### 2.2. Variables\n",
    "* If you are testing hypotheses, what are your IVs and DVs?\n",
    "* For your predictive models, what are your features and target variables?\n"
   ]
  },
  {
   "cell_type": "markdown",
   "metadata": {
    "colab_type": "text",
    "id": "6oa6QpNR6ARL"
   },
   "source": [
    "### 2.3. Data Analysis\n",
    "* Specifically describe your predictive model. What outcome variable are you going to predict from what feature variables?\n",
    "* Describe whether this is a supervised or unsupervised learning problem. Also identify the sub-category of the learning task (e.g. classification).\n",
    "* What machine learning algorithms are you going to use? Why?"
   ]
  },
  {
   "cell_type": "markdown",
   "metadata": {
    "colab_type": "text",
    "id": "ZC6qAG3F6ARL"
   },
   "source": [
    "<a id=\"3\"></a>\n",
    "<hr style=\"height:2px; border:none; color:black; background-color:black;\">"
   ]
  },
  {
   "cell_type": "markdown",
   "metadata": {
    "colab_type": "text",
    "id": "LwYXVK-O6ARL"
   },
   "source": [
    "## 3. RESULTS"
   ]
  },
  {
   "cell_type": "markdown",
   "metadata": {
    "colab_type": "text",
    "id": "gfTrIL8-6ARM"
   },
   "source": [
    "### 3.1. Data Wrangling\n",
    "* Perform simple data cleaning (delete extra columns, deal with NA values, etc.)\n",
    "* Perform data wrangling to extract your features and target values (e.g., grouping your dataframe by columns, applying functions to format dataframes, etc.)\n",
    "* Preprocess your variables (e.g., scaling/transforming feature variables to normalize them)\n",
    "* Feature extraction (dummy variables, new features from existing features, etc.)\n",
    "* Use one feature selection technique to select a subset of your original features\n"
   ]
  },
  {
   "cell_type": "code",
   "execution_count": null,
   "metadata": {},
   "outputs": [],
   "source": [
    "import pandas as pd\n",
    "import numpy as np\n",
    "import requests\n",
    "import glob \n",
    "import os\n",
    "\n",
    "path = r'C:\\Users\\dbk29\\Downloads' # use your path\n",
    "all_files = glob.glob(os.path.join(path, \"*.csv\"))\n",
    "\n",
    "df_from_each_file = (pd.read_csv(f, \n",
    "                                 usecols=['tripduration','start station id','start station name','start station latitude','start station longitude', 'end station id','end station name','end station latitude','end station longitude'] ) for f in all_files)\n",
    "concatenated_df   = pd.concat(df_from_each_file, ignore_index=True)\n",
    "concatenated_df.set_index(['start station id','end station id'], inplace=True)\n",
    "roxbury_data = concatenated_df.xs([27, 12], level = ['start station id', 'end station id'])\n",
    "brigham_data = concatenated_df.xs([30, 12], level = ['start station id', 'end station id'])\n",
    "blue_bikes = pd.concat([roxbury_data, brigham_data])\n",
    "blue_bikes.reset_index(inplace=True)\n",
    "blue_bikes.to_excel(\"blue_bikes_data.xlsx\", index=False)"
   ]
  },
  {
   "cell_type": "markdown",
   "metadata": {
    "colab_type": "text",
    "id": "Sl0nr0LY6ARM"
   },
   "source": [
    "### 3.2. Data Exploration\n",
    "* Generate appropriate data visualizations for your key variables identified in the previous section\n",
    "* You should have at least three visualizations (and at least two different visualization types)\n",
    "* For each visualization provide an explanation regarding the variables involved and an interpretation of the graph.\n",
    "* If you are using Plotly, insert your visualizations as images as well (upload the graph images to an online source, e.g. github, and link those in Jupyter Notebook)\n"
   ]
  },
  {
   "cell_type": "code",
   "execution_count": 42,
   "metadata": {},
   "outputs": [],
   "source": [
    "import pandas as pd\n",
    "import numpy as np\n",
    "import requests\n",
    "import glob \n",
    "import os\n",
    "import pprint\n",
    "\n",
    "data_sets = {}\n",
    "git_url = './data_sets/' #'https://media.githubusercontent.com/media/kchu14/Northeastern-Transportation-Analysis/master/data_sets/'\n",
    "data_sets['bluebikes_data'] = pd.read_csv(f'{git_url}Bluebikes_Data.csv')\n",
    "data_sets['uber_ids'] = pd.read_csv(f'{git_url}Uber_Data_IDs.csv')\n",
    "data_sets['uber_mh_neu'] = pd.read_csv(f'{git_url}Uber_Data_MH_NEU.csv')\n",
    "data_sets['uber_neu_mh'] = pd.read_csv(f'{git_url}Uber_Data_NEU_MH.csv')\n",
    "data_sets['uber_neu_mh_monthly'] = pd.read_csv(f'{git_url}Uber_Data_NEU_MH_Monthly.csv')\n",
    "data_sets['uber_tips'] = pd.read_csv(f'{git_url}Uber_Data_Tips.csv')\n",
    "\n",
    "\n"
   ]
  },
  {
   "cell_type": "code",
   "execution_count": 37,
   "metadata": {},
   "outputs": [
    {
     "name": "stdout",
     "output_type": "stream",
     "text": "298\n'00:04:58'\n"
    }
   ],
   "source": [
    "map_quest_api_url =\"http://www.mapquestapi.com/directions/v2/route\"\n",
    "api_key = open('./api_key').read()\n",
    "PARAMS = {'key':api_key,'routeType':'pedestrian', 'from': '1555 Blake St, Denver, CO', 'to': '1000 Blake St, Denver, CO'} \n",
    "r = requests.get(url = map_quest_api_url, params = PARAMS) \n",
    "  \n",
    "# extracting data in json format \n",
    "data = r.json() \n",
    "pprint.pprint(data['route']['time'])\n",
    "pprint.pprint(data['route']['formattedTime'])\n",
    "#data_sets['uber_ids'].head()"
   ]
  },
  {
   "cell_type": "markdown",
   "metadata": {
    "colab_type": "text",
    "id": "tXg4vfc76ARN"
   },
   "source": [
    "### 3.3. Model Construction\n",
    "* If you proposed hypotheses, conduct your hypothesis tests\n",
    "* For your machine learning question(s), split data into training, validation, and testing sets (or use cross-validation)\n",
    "* Apply machine learning algorithms (apply at least three algorithms)\n",
    "* Train your algorithms"
   ]
  },
  {
   "cell_type": "code",
   "execution_count": 43,
   "metadata": {},
   "outputs": [
    {
     "data": {
      "text/html": "<div>\n<style scoped>\n    .dataframe tbody tr th:only-of-type {\n        vertical-align: middle;\n    }\n\n    .dataframe tbody tr th {\n        vertical-align: top;\n    }\n\n    .dataframe thead th {\n        text-align: right;\n    }\n</style>\n<table border=\"1\" class=\"dataframe\">\n  <thead>\n    <tr style=\"text-align: right;\">\n      <th></th>\n      <th>Trip Start Timestamp</th>\n      <th>Trip End Timestamp</th>\n      <th>Trip Seconds</th>\n      <th>Trip Miles</th>\n      <th>Pickup Community Area</th>\n      <th>Dropoff Community Area</th>\n      <th>Fare</th>\n      <th>Tip</th>\n      <th>Additional Charges</th>\n      <th>Trip Total</th>\n      <th>Shared Trip Authorized</th>\n      <th>Trips Pooled</th>\n      <th>Pickup Centroid Location</th>\n      <th>Dropoff Centroid Location</th>\n    </tr>\n  </thead>\n  <tbody>\n    <tr>\n      <th>0</th>\n      <td>2/12/2019 19:15</td>\n      <td>2/12/2019 19:15</td>\n      <td>248</td>\n      <td>0.746336</td>\n      <td>3.0</td>\n      <td>3.0</td>\n      <td>2.5</td>\n      <td>0.0</td>\n      <td>2.55</td>\n      <td>5.05</td>\n      <td>False</td>\n      <td>1</td>\n      <td>POINT (-87.6631958495 41.9654457842)</td>\n      <td>POINT (-87.6573411073 41.9727095466)</td>\n    </tr>\n    <tr>\n      <th>1</th>\n      <td>3/14/2019 22:15</td>\n      <td>3/14/2019 22:30</td>\n      <td>900</td>\n      <td>5.371249</td>\n      <td>8.0</td>\n      <td>22.0</td>\n      <td>5.0</td>\n      <td>0.0</td>\n      <td>0.72</td>\n      <td>5.72</td>\n      <td>True</td>\n      <td>2</td>\n      <td>POINT (-87.6262105324 41.8991556134)</td>\n      <td>POINT (-87.6850821101 41.9212731053)</td>\n    </tr>\n    <tr>\n      <th>2</th>\n      <td>3/26/2019 13:30</td>\n      <td>3/26/2019 13:45</td>\n      <td>1,009</td>\n      <td>5.669338</td>\n      <td>33.0</td>\n      <td>24.0</td>\n      <td>5.0</td>\n      <td>0.0</td>\n      <td>2.55</td>\n      <td>7.55</td>\n      <td>True</td>\n      <td>4</td>\n      <td>POINT (-87.6305800611 41.8612808467)</td>\n      <td>POINT (-87.6753116216 41.906025969)</td>\n    </tr>\n    <tr>\n      <th>3</th>\n      <td>11/15/2018 23:00</td>\n      <td>11/15/2018 23:15</td>\n      <td>733</td>\n      <td>6.879594</td>\n      <td>76.0</td>\n      <td>NaN</td>\n      <td>10.0</td>\n      <td>0.0</td>\n      <td>9.52</td>\n      <td>19.52</td>\n      <td>False</td>\n      <td>1</td>\n      <td>POINT (-87.9030396611 41.9790708201)</td>\n      <td>NaN</td>\n    </tr>\n    <tr>\n      <th>4</th>\n      <td>2/8/2019 8:30</td>\n      <td>2/8/2019 8:45</td>\n      <td>675</td>\n      <td>3.251938</td>\n      <td>10.0</td>\n      <td>NaN</td>\n      <td>10.0</td>\n      <td>0.0</td>\n      <td>0.00</td>\n      <td>10.00</td>\n      <td>True</td>\n      <td>1</td>\n      <td>POINT (-87.7942692959 41.9956031347)</td>\n      <td>NaN</td>\n    </tr>\n    <tr>\n      <th>5</th>\n      <td>3/23/2019 0:00</td>\n      <td>3/23/2019 0:30</td>\n      <td>1,753</td>\n      <td>8.373755</td>\n      <td>24.0</td>\n      <td>77.0</td>\n      <td>15.0</td>\n      <td>1.0</td>\n      <td>0.00</td>\n      <td>16.00</td>\n      <td>True</td>\n      <td>2</td>\n      <td>POINT (-87.6842894005 41.8921964292)</td>\n      <td>POINT (-87.6641882421 41.9799124453)</td>\n    </tr>\n    <tr>\n      <th>6</th>\n      <td>3/28/2019 9:30</td>\n      <td>3/28/2019 9:45</td>\n      <td>922</td>\n      <td>8.135169</td>\n      <td>21.0</td>\n      <td>NaN</td>\n      <td>12.5</td>\n      <td>0.0</td>\n      <td>2.55</td>\n      <td>15.05</td>\n      <td>False</td>\n      <td>1</td>\n      <td>POINT (-87.7220523299 41.9337850524)</td>\n      <td>NaN</td>\n    </tr>\n    <tr>\n      <th>7</th>\n      <td>4/11/2019 19:45</td>\n      <td>4/11/2019 20:15</td>\n      <td>2,331</td>\n      <td>8.767741</td>\n      <td>23.0</td>\n      <td>4.0</td>\n      <td>12.5</td>\n      <td>1.0</td>\n      <td>0.00</td>\n      <td>13.50</td>\n      <td>True</td>\n      <td>2</td>\n      <td>POINT (-87.7209182385 41.9000696026)</td>\n      <td>POINT (-87.6875155152 41.9751709433)</td>\n    </tr>\n    <tr>\n      <th>8</th>\n      <td>1/13/2019 18:30</td>\n      <td>1/13/2019 19:15</td>\n      <td>2,929</td>\n      <td>22.718273</td>\n      <td>19.0</td>\n      <td>68.0</td>\n      <td>30.0</td>\n      <td>0.0</td>\n      <td>2.55</td>\n      <td>32.55</td>\n      <td>True</td>\n      <td>1</td>\n      <td>POINT (-87.7655016086 41.9272609555)</td>\n      <td>POINT (-87.6424975271 41.7771962546)</td>\n    </tr>\n    <tr>\n      <th>9</th>\n      <td>11/13/2018 16:00</td>\n      <td>11/13/2018 16:00</td>\n      <td>344</td>\n      <td>0.748273</td>\n      <td>32.0</td>\n      <td>28.0</td>\n      <td>5.0</td>\n      <td>0.0</td>\n      <td>2.50</td>\n      <td>7.50</td>\n      <td>False</td>\n      <td>1</td>\n      <td>POINT (-87.6327464887 41.8809944707)</td>\n      <td>POINT (-87.6428084655 41.8853000224)</td>\n    </tr>\n    <tr>\n      <th>10</th>\n      <td>2/13/2019 22:15</td>\n      <td>2/13/2019 22:45</td>\n      <td>1,297</td>\n      <td>9.440528</td>\n      <td>29.0</td>\n      <td>NaN</td>\n      <td>12.5</td>\n      <td>0.0</td>\n      <td>2.55</td>\n      <td>15.05</td>\n      <td>True</td>\n      <td>2</td>\n      <td>POINT (-87.7078663416 41.8615808621)</td>\n      <td>NaN</td>\n    </tr>\n    <tr>\n      <th>11</th>\n      <td>3/9/2019 12:30</td>\n      <td>3/9/2019 12:45</td>\n      <td>954</td>\n      <td>4.609332</td>\n      <td>68.0</td>\n      <td>39.0</td>\n      <td>10.0</td>\n      <td>0.0</td>\n      <td>2.55</td>\n      <td>12.55</td>\n      <td>False</td>\n      <td>1</td>\n      <td>POINT (-87.6424975271 41.7771962546)</td>\n      <td>POINT (-87.5961833442 41.8089162826)</td>\n    </tr>\n    <tr>\n      <th>12</th>\n      <td>4/29/2019 9:45</td>\n      <td>4/29/2019 10:00</td>\n      <td>918</td>\n      <td>6.507484</td>\n      <td>76.0</td>\n      <td>NaN</td>\n      <td>12.5</td>\n      <td>0.0</td>\n      <td>7.55</td>\n      <td>20.05</td>\n      <td>False</td>\n      <td>1</td>\n      <td>POINT (-87.9030396611 41.9790708201)</td>\n      <td>NaN</td>\n    </tr>\n    <tr>\n      <th>13</th>\n      <td>3/4/2019 9:45</td>\n      <td>3/4/2019 10:45</td>\n      <td>3,465</td>\n      <td>17.315497</td>\n      <td>56.0</td>\n      <td>32.0</td>\n      <td>55.0</td>\n      <td>10.0</td>\n      <td>7.85</td>\n      <td>72.85</td>\n      <td>False</td>\n      <td>1</td>\n      <td>POINT (-87.7509342894 41.785998518)</td>\n      <td>POINT (-87.6219716519 41.8774061234)</td>\n    </tr>\n    <tr>\n      <th>14</th>\n      <td>12/10/2018 14:00</td>\n      <td>12/10/2018 14:30</td>\n      <td>1,232</td>\n      <td>4.551681</td>\n      <td>23.0</td>\n      <td>28.0</td>\n      <td>7.5</td>\n      <td>0.0</td>\n      <td>2.50</td>\n      <td>10.00</td>\n      <td>True</td>\n      <td>2</td>\n      <td>POINT (-87.7209182385 41.9000696026)</td>\n      <td>POINT (-87.6635175498 41.874005383)</td>\n    </tr>\n    <tr>\n      <th>15</th>\n      <td>4/11/2019 19:15</td>\n      <td>4/11/2019 19:30</td>\n      <td>1,128</td>\n      <td>4.135686</td>\n      <td>69.0</td>\n      <td>43.0</td>\n      <td>7.5</td>\n      <td>0.0</td>\n      <td>2.55</td>\n      <td>10.05</td>\n      <td>True</td>\n      <td>2</td>\n      <td>POINT (-87.6161341112 41.7632467988)</td>\n      <td>POINT (-87.5727819867 41.7615779081)</td>\n    </tr>\n    <tr>\n      <th>16</th>\n      <td>4/27/2019 9:15</td>\n      <td>4/27/2019 9:30</td>\n      <td>992</td>\n      <td>11.140544</td>\n      <td>16.0</td>\n      <td>76.0</td>\n      <td>15.0</td>\n      <td>0.0</td>\n      <td>7.55</td>\n      <td>22.55</td>\n      <td>False</td>\n      <td>1</td>\n      <td>POINT (-87.7234523905 41.9535821253)</td>\n      <td>POINT (-87.913624596 41.9802643146)</td>\n    </tr>\n    <tr>\n      <th>17</th>\n      <td>4/27/2019 10:00</td>\n      <td>4/27/2019 10:15</td>\n      <td>685</td>\n      <td>1.959366</td>\n      <td>28.0</td>\n      <td>32.0</td>\n      <td>7.5</td>\n      <td>3.0</td>\n      <td>2.55</td>\n      <td>13.05</td>\n      <td>False</td>\n      <td>1</td>\n      <td>POINT (-87.6618611238 41.8741766252)</td>\n      <td>POINT (-87.6219716519 41.8774061234)</td>\n    </tr>\n    <tr>\n      <th>18</th>\n      <td>12/27/2018 10:00</td>\n      <td>12/27/2018 10:15</td>\n      <td>780</td>\n      <td>5.052922</td>\n      <td>6.0</td>\n      <td>8.0</td>\n      <td>7.5</td>\n      <td>0.0</td>\n      <td>2.50</td>\n      <td>10.00</td>\n      <td>True</td>\n      <td>1</td>\n      <td>POINT (-87.6439653703 41.949829346)</td>\n      <td>POINT (-87.6188683546 41.8909220259)</td>\n    </tr>\n    <tr>\n      <th>19</th>\n      <td>4/12/2019 17:15</td>\n      <td>4/12/2019 17:30</td>\n      <td>754</td>\n      <td>1.099901</td>\n      <td>32.0</td>\n      <td>8.0</td>\n      <td>10.0</td>\n      <td>0.0</td>\n      <td>2.55</td>\n      <td>12.55</td>\n      <td>False</td>\n      <td>1</td>\n      <td>POINT (-87.6327464887 41.8809944707)</td>\n      <td>POINT (-87.6288741572 41.8920726347)</td>\n    </tr>\n    <tr>\n      <th>20</th>\n      <td>12/10/2018 6:45</td>\n      <td>12/10/2018 7:00</td>\n      <td>870</td>\n      <td>6.011400</td>\n      <td>6.0</td>\n      <td>32.0</td>\n      <td>10.0</td>\n      <td>0.0</td>\n      <td>2.50</td>\n      <td>12.50</td>\n      <td>False</td>\n      <td>1</td>\n      <td>POINT (-87.6568039088 41.9491397709)</td>\n      <td>POINT (-87.6209929134 41.8849871918)</td>\n    </tr>\n    <tr>\n      <th>21</th>\n      <td>1/23/2019 19:15</td>\n      <td>1/23/2019 19:30</td>\n      <td>550</td>\n      <td>1.505722</td>\n      <td>8.0</td>\n      <td>8.0</td>\n      <td>5.0</td>\n      <td>0.0</td>\n      <td>0.00</td>\n      <td>5.00</td>\n      <td>True</td>\n      <td>3</td>\n      <td>POINT (-87.630963601 41.9094956686)</td>\n      <td>POINT (-87.6318639497 41.8920421365)</td>\n    </tr>\n    <tr>\n      <th>22</th>\n      <td>3/18/2019 7:30</td>\n      <td>3/18/2019 7:45</td>\n      <td>828</td>\n      <td>3.981495</td>\n      <td>32.0</td>\n      <td>28.0</td>\n      <td>7.5</td>\n      <td>0.0</td>\n      <td>2.55</td>\n      <td>10.05</td>\n      <td>False</td>\n      <td>1</td>\n      <td>POINT (-87.6209929134 41.8849871918)</td>\n      <td>POINT (-87.6750856208 41.8704150003)</td>\n    </tr>\n    <tr>\n      <th>23</th>\n      <td>12/11/2018 14:45</td>\n      <td>12/11/2018 15:00</td>\n      <td>495</td>\n      <td>1.382442</td>\n      <td>8.0</td>\n      <td>32.0</td>\n      <td>5.0</td>\n      <td>0.0</td>\n      <td>2.50</td>\n      <td>7.50</td>\n      <td>True</td>\n      <td>2</td>\n      <td>POINT (-87.6378442095 41.8932163595)</td>\n      <td>POINT (-87.6209929134 41.8849871918)</td>\n    </tr>\n    <tr>\n      <th>24</th>\n      <td>11/9/2018 1:15</td>\n      <td>11/9/2018 1:15</td>\n      <td>197</td>\n      <td>0.398207</td>\n      <td>6.0</td>\n      <td>6.0</td>\n      <td>2.5</td>\n      <td>0.0</td>\n      <td>2.50</td>\n      <td>5.00</td>\n      <td>False</td>\n      <td>1</td>\n      <td>POINT (-87.6467820813 41.938232293)</td>\n      <td>POINT (-87.6542980837 41.9462945357)</td>\n    </tr>\n    <tr>\n      <th>25</th>\n      <td>4/6/2019 21:00</td>\n      <td>4/6/2019 21:30</td>\n      <td>1,765</td>\n      <td>10.970707</td>\n      <td>42.0</td>\n      <td>8.0</td>\n      <td>12.5</td>\n      <td>0.0</td>\n      <td>0.00</td>\n      <td>12.50</td>\n      <td>True</td>\n      <td>2</td>\n      <td>POINT (-87.5949254391 41.7788768603)</td>\n      <td>POINT (-87.6333080367 41.899602111)</td>\n    </tr>\n    <tr>\n      <th>26</th>\n      <td>11/18/2018 4:30</td>\n      <td>11/18/2018 4:30</td>\n      <td>588</td>\n      <td>2.456823</td>\n      <td>8.0</td>\n      <td>6.0</td>\n      <td>7.5</td>\n      <td>0.0</td>\n      <td>2.50</td>\n      <td>10.00</td>\n      <td>False</td>\n      <td>1</td>\n      <td>POINT (-87.6499072264 41.9049353016)</td>\n      <td>POINT (-87.6564115308 41.9362371791)</td>\n    </tr>\n    <tr>\n      <th>27</th>\n      <td>11/9/2018 16:15</td>\n      <td>11/9/2018 17:00</td>\n      <td>2,230</td>\n      <td>7.452951</td>\n      <td>28.0</td>\n      <td>3.0</td>\n      <td>10.0</td>\n      <td>0.0</td>\n      <td>2.50</td>\n      <td>12.50</td>\n      <td>True</td>\n      <td>3</td>\n      <td>POINT (-87.6572331997 41.8852813201)</td>\n      <td>POINT (-87.6523653588 41.9636331692)</td>\n    </tr>\n    <tr>\n      <th>28</th>\n      <td>2/5/2019 16:45</td>\n      <td>2/5/2019 17:15</td>\n      <td>1,949</td>\n      <td>5.026117</td>\n      <td>20.0</td>\n      <td>6.0</td>\n      <td>12.5</td>\n      <td>1.0</td>\n      <td>2.55</td>\n      <td>16.05</td>\n      <td>False</td>\n      <td>1</td>\n      <td>POINT (-87.7376199977 41.9350581526)</td>\n      <td>POINT (-87.6515625922 41.9363101308)</td>\n    </tr>\n    <tr>\n      <th>29</th>\n      <td>12/26/2018 22:00</td>\n      <td>12/26/2018 22:15</td>\n      <td>883</td>\n      <td>7.481955</td>\n      <td>8.0</td>\n      <td>30.0</td>\n      <td>12.5</td>\n      <td>0.0</td>\n      <td>2.50</td>\n      <td>15.00</td>\n      <td>False</td>\n      <td>1</td>\n      <td>POINT (-87.6197106717 41.8950334495)</td>\n      <td>POINT (-87.6935387966 41.853834685)</td>\n    </tr>\n    <tr>\n      <th>...</th>\n      <td>...</td>\n      <td>...</td>\n      <td>...</td>\n      <td>...</td>\n      <td>...</td>\n      <td>...</td>\n      <td>...</td>\n      <td>...</td>\n      <td>...</td>\n      <td>...</td>\n      <td>...</td>\n      <td>...</td>\n      <td>...</td>\n      <td>...</td>\n    </tr>\n    <tr>\n      <th>999970</th>\n      <td>11/4/2018 14:00</td>\n      <td>11/4/2018 14:30</td>\n      <td>1,597</td>\n      <td>13.231088</td>\n      <td>76.0</td>\n      <td>22.0</td>\n      <td>20.0</td>\n      <td>0.0</td>\n      <td>7.50</td>\n      <td>27.50</td>\n      <td>False</td>\n      <td>1</td>\n      <td>POINT (-87.9030396611 41.9790708201)</td>\n      <td>POINT (-87.6997544065 41.9211259143)</td>\n    </tr>\n    <tr>\n      <th>999971</th>\n      <td>4/19/2019 19:00</td>\n      <td>4/19/2019 19:30</td>\n      <td>2,191</td>\n      <td>7.428744</td>\n      <td>4.0</td>\n      <td>1.0</td>\n      <td>10.0</td>\n      <td>1.0</td>\n      <td>2.55</td>\n      <td>13.55</td>\n      <td>True</td>\n      <td>3</td>\n      <td>POINT (-87.6788459662 41.9725625375)</td>\n      <td>POINT (-87.6639582144 42.0094125471)</td>\n    </tr>\n    <tr>\n      <th>999972</th>\n      <td>3/8/2019 21:30</td>\n      <td>3/8/2019 21:45</td>\n      <td>919</td>\n      <td>2.935892</td>\n      <td>28.0</td>\n      <td>32.0</td>\n      <td>7.5</td>\n      <td>2.0</td>\n      <td>2.55</td>\n      <td>12.05</td>\n      <td>False</td>\n      <td>1</td>\n      <td>POINT (-87.6716536214 41.8786674201)</td>\n      <td>POINT (-87.6209929134 41.8849871918)</td>\n    </tr>\n    <tr>\n      <th>999973</th>\n      <td>11/17/2018 13:00</td>\n      <td>11/17/2018 13:15</td>\n      <td>348</td>\n      <td>0.946218</td>\n      <td>32.0</td>\n      <td>8.0</td>\n      <td>5.0</td>\n      <td>0.0</td>\n      <td>2.50</td>\n      <td>7.50</td>\n      <td>False</td>\n      <td>1</td>\n      <td>POINT (-87.6327464887 41.8809944707)</td>\n      <td>POINT (-87.6188683546 41.8909220259)</td>\n    </tr>\n    <tr>\n      <th>999974</th>\n      <td>1/22/2019 13:15</td>\n      <td>1/22/2019 13:15</td>\n      <td>314</td>\n      <td>0.815936</td>\n      <td>8.0</td>\n      <td>32.0</td>\n      <td>5.0</td>\n      <td>0.0</td>\n      <td>0.00</td>\n      <td>5.00</td>\n      <td>True</td>\n      <td>1</td>\n      <td>POINT (-87.6262149064 41.8925077809)</td>\n      <td>POINT (-87.6327464887 41.8809944707)</td>\n    </tr>\n    <tr>\n      <th>999975</th>\n      <td>1/18/2019 10:00</td>\n      <td>1/18/2019 10:15</td>\n      <td>674</td>\n      <td>1.931395</td>\n      <td>8.0</td>\n      <td>8.0</td>\n      <td>7.5</td>\n      <td>0.0</td>\n      <td>2.55</td>\n      <td>10.05</td>\n      <td>False</td>\n      <td>1</td>\n      <td>POINT (-87.6262149064 41.8925077809)</td>\n      <td>POINT (-87.6409015248 41.9074128162)</td>\n    </tr>\n    <tr>\n      <th>999976</th>\n      <td>4/6/2019 13:30</td>\n      <td>4/6/2019 13:30</td>\n      <td>331</td>\n      <td>1.503780</td>\n      <td>50.0</td>\n      <td>50.0</td>\n      <td>5.0</td>\n      <td>0.0</td>\n      <td>2.55</td>\n      <td>7.55</td>\n      <td>False</td>\n      <td>1</td>\n      <td>POINT (-87.5982558383 41.7061257523)</td>\n      <td>POINT (-87.5982558383 41.7061257523)</td>\n    </tr>\n    <tr>\n      <th>999977</th>\n      <td>1/10/2019 16:45</td>\n      <td>1/10/2019 17:00</td>\n      <td>754</td>\n      <td>2.887443</td>\n      <td>39.0</td>\n      <td>35.0</td>\n      <td>5.0</td>\n      <td>0.0</td>\n      <td>2.55</td>\n      <td>7.55</td>\n      <td>True</td>\n      <td>2</td>\n      <td>POINT (-87.5874792581 41.8059116993)</td>\n      <td>POINT (-87.6192497579 41.8274416865)</td>\n    </tr>\n    <tr>\n      <th>999978</th>\n      <td>2/10/2019 0:45</td>\n      <td>2/10/2019 1:00</td>\n      <td>455</td>\n      <td>1.863978</td>\n      <td>6.0</td>\n      <td>3.0</td>\n      <td>5.0</td>\n      <td>0.0</td>\n      <td>2.55</td>\n      <td>7.55</td>\n      <td>False</td>\n      <td>1</td>\n      <td>POINT (-87.6517705068 41.9426918444)</td>\n      <td>POINT (-87.6453787624 41.962178629)</td>\n    </tr>\n    <tr>\n      <th>999979</th>\n      <td>1/12/2019 11:00</td>\n      <td>1/12/2019 11:45</td>\n      <td>2,077</td>\n      <td>21.203316</td>\n      <td>43.0</td>\n      <td>NaN</td>\n      <td>27.5</td>\n      <td>0.0</td>\n      <td>2.55</td>\n      <td>30.05</td>\n      <td>False</td>\n      <td>1</td>\n      <td>POINT (-87.5812710169 41.7642434593)</td>\n      <td>NaN</td>\n    </tr>\n    <tr>\n      <th>999980</th>\n      <td>3/13/2019 2:45</td>\n      <td>3/13/2019 2:45</td>\n      <td>209</td>\n      <td>1.072684</td>\n      <td>42.0</td>\n      <td>69.0</td>\n      <td>2.5</td>\n      <td>1.0</td>\n      <td>2.55</td>\n      <td>6.05</td>\n      <td>False</td>\n      <td>1</td>\n      <td>POINT (-87.5949254391 41.7788768603)</td>\n      <td>POINT (-87.6161341112 41.7632467988)</td>\n    </tr>\n    <tr>\n      <th>999981</th>\n      <td>12/4/2018 4:15</td>\n      <td>12/4/2018 4:45</td>\n      <td>1,400</td>\n      <td>16.438152</td>\n      <td>7.0</td>\n      <td>56.0</td>\n      <td>22.5</td>\n      <td>0.0</td>\n      <td>7.50</td>\n      <td>30.00</td>\n      <td>False</td>\n      <td>1</td>\n      <td>POINT (-87.6494887289 41.9226862843)</td>\n      <td>POINT (-87.7696154528 41.7925923603)</td>\n    </tr>\n    <tr>\n      <th>999982</th>\n      <td>3/19/2019 7:00</td>\n      <td>3/19/2019 7:15</td>\n      <td>785</td>\n      <td>3.848097</td>\n      <td>8.0</td>\n      <td>28.0</td>\n      <td>7.5</td>\n      <td>5.0</td>\n      <td>2.55</td>\n      <td>15.05</td>\n      <td>False</td>\n      <td>1</td>\n      <td>POINT (-87.6318639497 41.8920421365)</td>\n      <td>POINT (-87.6750856208 41.8704150003)</td>\n    </tr>\n    <tr>\n      <th>999983</th>\n      <td>2/1/2019 8:15</td>\n      <td>2/1/2019 8:30</td>\n      <td>698</td>\n      <td>1.844452</td>\n      <td>28.0</td>\n      <td>28.0</td>\n      <td>7.5</td>\n      <td>1.0</td>\n      <td>2.55</td>\n      <td>11.05</td>\n      <td>False</td>\n      <td>1</td>\n      <td>POINT (-87.6806541164 41.8773834707)</td>\n      <td>POINT (-87.6429586652 41.8679024175)</td>\n    </tr>\n    <tr>\n      <th>999984</th>\n      <td>2/5/2019 18:15</td>\n      <td>2/5/2019 18:30</td>\n      <td>284</td>\n      <td>0.339300</td>\n      <td>32.0</td>\n      <td>32.0</td>\n      <td>5.0</td>\n      <td>0.0</td>\n      <td>2.55</td>\n      <td>7.55</td>\n      <td>False</td>\n      <td>1</td>\n      <td>POINT (-87.6314065252 41.8710158803)</td>\n      <td>POINT (-87.6314065252 41.8710158803)</td>\n    </tr>\n    <tr>\n      <th>999985</th>\n      <td>1/19/2019 13:30</td>\n      <td>1/19/2019 14:15</td>\n      <td>2,906</td>\n      <td>17.168919</td>\n      <td>52.0</td>\n      <td>8.0</td>\n      <td>17.5</td>\n      <td>0.0</td>\n      <td>2.55</td>\n      <td>20.05</td>\n      <td>True</td>\n      <td>2</td>\n      <td>POINT (-87.5349029012 41.707311449)</td>\n      <td>POINT (-87.6333080367 41.899602111)</td>\n    </tr>\n    <tr>\n      <th>999986</th>\n      <td>11/11/2018 17:45</td>\n      <td>11/11/2018 18:30</td>\n      <td>2,165</td>\n      <td>27.663532</td>\n      <td>NaN</td>\n      <td>31.0</td>\n      <td>32.5</td>\n      <td>0.0</td>\n      <td>0.00</td>\n      <td>32.50</td>\n      <td>True</td>\n      <td>1</td>\n      <td>NaN</td>\n      <td>POINT (-87.667569312 41.8502663663)</td>\n    </tr>\n    <tr>\n      <th>999987</th>\n      <td>11/19/2018 7:30</td>\n      <td>11/19/2018 7:45</td>\n      <td>966</td>\n      <td>2.802560</td>\n      <td>23.0</td>\n      <td>24.0</td>\n      <td>7.5</td>\n      <td>0.0</td>\n      <td>2.50</td>\n      <td>10.00</td>\n      <td>False</td>\n      <td>1</td>\n      <td>POINT (-87.7213158985 41.8990616211)</td>\n      <td>POINT (-87.674506788 41.8923550478)</td>\n    </tr>\n    <tr>\n      <th>999988</th>\n      <td>3/6/2019 18:30</td>\n      <td>3/6/2019 18:45</td>\n      <td>816</td>\n      <td>2.863713</td>\n      <td>8.0</td>\n      <td>7.0</td>\n      <td>2.5</td>\n      <td>0.0</td>\n      <td>2.55</td>\n      <td>5.05</td>\n      <td>True</td>\n      <td>4</td>\n      <td>POINT (-87.6197106717 41.8950334495)</td>\n      <td>POINT (-87.6462109769 41.9218549112)</td>\n    </tr>\n    <tr>\n      <th>999989</th>\n      <td>12/15/2018 19:00</td>\n      <td>12/15/2018 20:00</td>\n      <td>3,183</td>\n      <td>31.526839</td>\n      <td>28.0</td>\n      <td>NaN</td>\n      <td>42.5</td>\n      <td>9.0</td>\n      <td>3.25</td>\n      <td>54.75</td>\n      <td>False</td>\n      <td>1</td>\n      <td>POINT (-87.642648998 41.8792550844)</td>\n      <td>NaN</td>\n    </tr>\n    <tr>\n      <th>999990</th>\n      <td>1/9/2019 7:15</td>\n      <td>1/9/2019 8:00</td>\n      <td>2,674</td>\n      <td>14.734702</td>\n      <td>77.0</td>\n      <td>76.0</td>\n      <td>27.5</td>\n      <td>2.0</td>\n      <td>8.15</td>\n      <td>37.65</td>\n      <td>False</td>\n      <td>1</td>\n      <td>POINT (-87.6634164054 41.9867117999)</td>\n      <td>POINT (-87.913624596 41.9802643146)</td>\n    </tr>\n    <tr>\n      <th>999991</th>\n      <td>11/1/2018 18:00</td>\n      <td>11/1/2018 18:15</td>\n      <td>817</td>\n      <td>1.309973</td>\n      <td>28.0</td>\n      <td>8.0</td>\n      <td>7.5</td>\n      <td>0.0</td>\n      <td>2.50</td>\n      <td>10.00</td>\n      <td>False</td>\n      <td>1</td>\n      <td>POINT (-87.642648998 41.8792550844)</td>\n      <td>POINT (-87.6318639497 41.8920421365)</td>\n    </tr>\n    <tr>\n      <th>999992</th>\n      <td>11/19/2018 22:45</td>\n      <td>11/19/2018 22:45</td>\n      <td>277</td>\n      <td>0.420224</td>\n      <td>8.0</td>\n      <td>8.0</td>\n      <td>2.5</td>\n      <td>0.0</td>\n      <td>2.50</td>\n      <td>5.00</td>\n      <td>False</td>\n      <td>1</td>\n      <td>POINT (-87.6288741572 41.8920726347)</td>\n      <td>POINT (-87.6318639497 41.8920421365)</td>\n    </tr>\n    <tr>\n      <th>999993</th>\n      <td>11/18/2018 1:45</td>\n      <td>11/18/2018 2:00</td>\n      <td>594</td>\n      <td>1.435033</td>\n      <td>8.0</td>\n      <td>32.0</td>\n      <td>5.0</td>\n      <td>0.0</td>\n      <td>2.50</td>\n      <td>7.50</td>\n      <td>False</td>\n      <td>1</td>\n      <td>POINT (-87.6318639497 41.8920421365)</td>\n      <td>POINT (-87.6314065252 41.8710158803)</td>\n    </tr>\n    <tr>\n      <th>999994</th>\n      <td>1/1/2019 12:15</td>\n      <td>1/1/2019 12:45</td>\n      <td>1,583</td>\n      <td>15.132716</td>\n      <td>70.0</td>\n      <td>33.0</td>\n      <td>5.0</td>\n      <td>0.0</td>\n      <td>2.78</td>\n      <td>7.78</td>\n      <td>True</td>\n      <td>4</td>\n      <td>POINT (-87.7083657043 41.7457577128)</td>\n      <td>POINT (-87.6203346241 41.8571838585)</td>\n    </tr>\n    <tr>\n      <th>999995</th>\n      <td>1/12/2019 17:45</td>\n      <td>1/12/2019 18:00</td>\n      <td>451</td>\n      <td>1.035922</td>\n      <td>8.0</td>\n      <td>32.0</td>\n      <td>5.0</td>\n      <td>2.0</td>\n      <td>2.55</td>\n      <td>9.55</td>\n      <td>False</td>\n      <td>1</td>\n      <td>POINT (-87.6262149064 41.8925077809)</td>\n      <td>POINT (-87.6327464887 41.8809944707)</td>\n    </tr>\n    <tr>\n      <th>999996</th>\n      <td>11/24/2018 17:30</td>\n      <td>11/24/2018 17:45</td>\n      <td>721</td>\n      <td>6.345254</td>\n      <td>6.0</td>\n      <td>32.0</td>\n      <td>20.0</td>\n      <td>3.0</td>\n      <td>2.80</td>\n      <td>25.80</td>\n      <td>False</td>\n      <td>1</td>\n      <td>POINT (-87.6439653703 41.949829346)</td>\n      <td>POINT (-87.6219716519 41.8774061234)</td>\n    </tr>\n    <tr>\n      <th>999997</th>\n      <td>1/19/2019 8:30</td>\n      <td>1/19/2019 8:45</td>\n      <td>1,212</td>\n      <td>7.101690</td>\n      <td>38.0</td>\n      <td>32.0</td>\n      <td>12.5</td>\n      <td>0.0</td>\n      <td>0.00</td>\n      <td>12.50</td>\n      <td>True</td>\n      <td>2</td>\n      <td>POINT (-87.6178596758 41.8129489392)</td>\n      <td>POINT (-87.6251921424 41.8788655841)</td>\n    </tr>\n    <tr>\n      <th>999998</th>\n      <td>4/14/2019 16:30</td>\n      <td>4/14/2019 16:30</td>\n      <td>174</td>\n      <td>0.616998</td>\n      <td>32.0</td>\n      <td>32.0</td>\n      <td>2.5</td>\n      <td>0.0</td>\n      <td>2.55</td>\n      <td>5.05</td>\n      <td>False</td>\n      <td>1</td>\n      <td>POINT (-87.6327464887 41.8809944707)</td>\n      <td>POINT (-87.6219716519 41.8774061234)</td>\n    </tr>\n    <tr>\n      <th>999999</th>\n      <td>12/4/2018 23:30</td>\n      <td>12/4/2018 23:45</td>\n      <td>337</td>\n      <td>1.875473</td>\n      <td>44.0</td>\n      <td>69.0</td>\n      <td>5.0</td>\n      <td>0.0</td>\n      <td>2.50</td>\n      <td>7.50</td>\n      <td>False</td>\n      <td>1</td>\n      <td>POINT (-87.6159695226 41.7402057565)</td>\n      <td>POINT (-87.6161341112 41.7632467988)</td>\n    </tr>\n  </tbody>\n</table>\n<p>1000000 rows × 14 columns</p>\n</div>",
      "text/plain": "       Trip Start Timestamp Trip End Timestamp Trip Seconds  Trip Miles  \\\n0           2/12/2019 19:15    2/12/2019 19:15          248    0.746336   \n1           3/14/2019 22:15    3/14/2019 22:30          900    5.371249   \n2           3/26/2019 13:30    3/26/2019 13:45        1,009    5.669338   \n3          11/15/2018 23:00   11/15/2018 23:15          733    6.879594   \n4             2/8/2019 8:30      2/8/2019 8:45          675    3.251938   \n5            3/23/2019 0:00     3/23/2019 0:30        1,753    8.373755   \n6            3/28/2019 9:30     3/28/2019 9:45          922    8.135169   \n7           4/11/2019 19:45    4/11/2019 20:15        2,331    8.767741   \n8           1/13/2019 18:30    1/13/2019 19:15        2,929   22.718273   \n9          11/13/2018 16:00   11/13/2018 16:00          344    0.748273   \n10          2/13/2019 22:15    2/13/2019 22:45        1,297    9.440528   \n11           3/9/2019 12:30     3/9/2019 12:45          954    4.609332   \n12           4/29/2019 9:45    4/29/2019 10:00          918    6.507484   \n13            3/4/2019 9:45     3/4/2019 10:45        3,465   17.315497   \n14         12/10/2018 14:00   12/10/2018 14:30        1,232    4.551681   \n15          4/11/2019 19:15    4/11/2019 19:30        1,128    4.135686   \n16           4/27/2019 9:15     4/27/2019 9:30          992   11.140544   \n17          4/27/2019 10:00    4/27/2019 10:15          685    1.959366   \n18         12/27/2018 10:00   12/27/2018 10:15          780    5.052922   \n19          4/12/2019 17:15    4/12/2019 17:30          754    1.099901   \n20          12/10/2018 6:45    12/10/2018 7:00          870    6.011400   \n21          1/23/2019 19:15    1/23/2019 19:30          550    1.505722   \n22           3/18/2019 7:30     3/18/2019 7:45          828    3.981495   \n23         12/11/2018 14:45   12/11/2018 15:00          495    1.382442   \n24           11/9/2018 1:15     11/9/2018 1:15          197    0.398207   \n25           4/6/2019 21:00     4/6/2019 21:30        1,765   10.970707   \n26          11/18/2018 4:30    11/18/2018 4:30          588    2.456823   \n27          11/9/2018 16:15    11/9/2018 17:00        2,230    7.452951   \n28           2/5/2019 16:45     2/5/2019 17:15        1,949    5.026117   \n29         12/26/2018 22:00   12/26/2018 22:15          883    7.481955   \n...                     ...                ...          ...         ...   \n999970      11/4/2018 14:00    11/4/2018 14:30        1,597   13.231088   \n999971      4/19/2019 19:00    4/19/2019 19:30        2,191    7.428744   \n999972       3/8/2019 21:30     3/8/2019 21:45          919    2.935892   \n999973     11/17/2018 13:00   11/17/2018 13:15          348    0.946218   \n999974      1/22/2019 13:15    1/22/2019 13:15          314    0.815936   \n999975      1/18/2019 10:00    1/18/2019 10:15          674    1.931395   \n999976       4/6/2019 13:30     4/6/2019 13:30          331    1.503780   \n999977      1/10/2019 16:45    1/10/2019 17:00          754    2.887443   \n999978       2/10/2019 0:45     2/10/2019 1:00          455    1.863978   \n999979      1/12/2019 11:00    1/12/2019 11:45        2,077   21.203316   \n999980       3/13/2019 2:45     3/13/2019 2:45          209    1.072684   \n999981       12/4/2018 4:15     12/4/2018 4:45        1,400   16.438152   \n999982       3/19/2019 7:00     3/19/2019 7:15          785    3.848097   \n999983        2/1/2019 8:15      2/1/2019 8:30          698    1.844452   \n999984       2/5/2019 18:15     2/5/2019 18:30          284    0.339300   \n999985      1/19/2019 13:30    1/19/2019 14:15        2,906   17.168919   \n999986     11/11/2018 17:45   11/11/2018 18:30        2,165   27.663532   \n999987      11/19/2018 7:30    11/19/2018 7:45          966    2.802560   \n999988       3/6/2019 18:30     3/6/2019 18:45          816    2.863713   \n999989     12/15/2018 19:00   12/15/2018 20:00        3,183   31.526839   \n999990        1/9/2019 7:15      1/9/2019 8:00        2,674   14.734702   \n999991      11/1/2018 18:00    11/1/2018 18:15          817    1.309973   \n999992     11/19/2018 22:45   11/19/2018 22:45          277    0.420224   \n999993      11/18/2018 1:45    11/18/2018 2:00          594    1.435033   \n999994       1/1/2019 12:15     1/1/2019 12:45        1,583   15.132716   \n999995      1/12/2019 17:45    1/12/2019 18:00          451    1.035922   \n999996     11/24/2018 17:30   11/24/2018 17:45          721    6.345254   \n999997       1/19/2019 8:30     1/19/2019 8:45        1,212    7.101690   \n999998      4/14/2019 16:30    4/14/2019 16:30          174    0.616998   \n999999      12/4/2018 23:30    12/4/2018 23:45          337    1.875473   \n\n        Pickup Community Area  Dropoff Community Area  Fare   Tip  \\\n0                         3.0                     3.0   2.5   0.0   \n1                         8.0                    22.0   5.0   0.0   \n2                        33.0                    24.0   5.0   0.0   \n3                        76.0                     NaN  10.0   0.0   \n4                        10.0                     NaN  10.0   0.0   \n5                        24.0                    77.0  15.0   1.0   \n6                        21.0                     NaN  12.5   0.0   \n7                        23.0                     4.0  12.5   1.0   \n8                        19.0                    68.0  30.0   0.0   \n9                        32.0                    28.0   5.0   0.0   \n10                       29.0                     NaN  12.5   0.0   \n11                       68.0                    39.0  10.0   0.0   \n12                       76.0                     NaN  12.5   0.0   \n13                       56.0                    32.0  55.0  10.0   \n14                       23.0                    28.0   7.5   0.0   \n15                       69.0                    43.0   7.5   0.0   \n16                       16.0                    76.0  15.0   0.0   \n17                       28.0                    32.0   7.5   3.0   \n18                        6.0                     8.0   7.5   0.0   \n19                       32.0                     8.0  10.0   0.0   \n20                        6.0                    32.0  10.0   0.0   \n21                        8.0                     8.0   5.0   0.0   \n22                       32.0                    28.0   7.5   0.0   \n23                        8.0                    32.0   5.0   0.0   \n24                        6.0                     6.0   2.5   0.0   \n25                       42.0                     8.0  12.5   0.0   \n26                        8.0                     6.0   7.5   0.0   \n27                       28.0                     3.0  10.0   0.0   \n28                       20.0                     6.0  12.5   1.0   \n29                        8.0                    30.0  12.5   0.0   \n...                       ...                     ...   ...   ...   \n999970                   76.0                    22.0  20.0   0.0   \n999971                    4.0                     1.0  10.0   1.0   \n999972                   28.0                    32.0   7.5   2.0   \n999973                   32.0                     8.0   5.0   0.0   \n999974                    8.0                    32.0   5.0   0.0   \n999975                    8.0                     8.0   7.5   0.0   \n999976                   50.0                    50.0   5.0   0.0   \n999977                   39.0                    35.0   5.0   0.0   \n999978                    6.0                     3.0   5.0   0.0   \n999979                   43.0                     NaN  27.5   0.0   \n999980                   42.0                    69.0   2.5   1.0   \n999981                    7.0                    56.0  22.5   0.0   \n999982                    8.0                    28.0   7.5   5.0   \n999983                   28.0                    28.0   7.5   1.0   \n999984                   32.0                    32.0   5.0   0.0   \n999985                   52.0                     8.0  17.5   0.0   \n999986                    NaN                    31.0  32.5   0.0   \n999987                   23.0                    24.0   7.5   0.0   \n999988                    8.0                     7.0   2.5   0.0   \n999989                   28.0                     NaN  42.5   9.0   \n999990                   77.0                    76.0  27.5   2.0   \n999991                   28.0                     8.0   7.5   0.0   \n999992                    8.0                     8.0   2.5   0.0   \n999993                    8.0                    32.0   5.0   0.0   \n999994                   70.0                    33.0   5.0   0.0   \n999995                    8.0                    32.0   5.0   2.0   \n999996                    6.0                    32.0  20.0   3.0   \n999997                   38.0                    32.0  12.5   0.0   \n999998                   32.0                    32.0   2.5   0.0   \n999999                   44.0                    69.0   5.0   0.0   \n\n        Additional Charges  Trip Total  Shared Trip Authorized  Trips Pooled  \\\n0                     2.55        5.05                   False             1   \n1                     0.72        5.72                    True             2   \n2                     2.55        7.55                    True             4   \n3                     9.52       19.52                   False             1   \n4                     0.00       10.00                    True             1   \n5                     0.00       16.00                    True             2   \n6                     2.55       15.05                   False             1   \n7                     0.00       13.50                    True             2   \n8                     2.55       32.55                    True             1   \n9                     2.50        7.50                   False             1   \n10                    2.55       15.05                    True             2   \n11                    2.55       12.55                   False             1   \n12                    7.55       20.05                   False             1   \n13                    7.85       72.85                   False             1   \n14                    2.50       10.00                    True             2   \n15                    2.55       10.05                    True             2   \n16                    7.55       22.55                   False             1   \n17                    2.55       13.05                   False             1   \n18                    2.50       10.00                    True             1   \n19                    2.55       12.55                   False             1   \n20                    2.50       12.50                   False             1   \n21                    0.00        5.00                    True             3   \n22                    2.55       10.05                   False             1   \n23                    2.50        7.50                    True             2   \n24                    2.50        5.00                   False             1   \n25                    0.00       12.50                    True             2   \n26                    2.50       10.00                   False             1   \n27                    2.50       12.50                    True             3   \n28                    2.55       16.05                   False             1   \n29                    2.50       15.00                   False             1   \n...                    ...         ...                     ...           ...   \n999970                7.50       27.50                   False             1   \n999971                2.55       13.55                    True             3   \n999972                2.55       12.05                   False             1   \n999973                2.50        7.50                   False             1   \n999974                0.00        5.00                    True             1   \n999975                2.55       10.05                   False             1   \n999976                2.55        7.55                   False             1   \n999977                2.55        7.55                    True             2   \n999978                2.55        7.55                   False             1   \n999979                2.55       30.05                   False             1   \n999980                2.55        6.05                   False             1   \n999981                7.50       30.00                   False             1   \n999982                2.55       15.05                   False             1   \n999983                2.55       11.05                   False             1   \n999984                2.55        7.55                   False             1   \n999985                2.55       20.05                    True             2   \n999986                0.00       32.50                    True             1   \n999987                2.50       10.00                   False             1   \n999988                2.55        5.05                    True             4   \n999989                3.25       54.75                   False             1   \n999990                8.15       37.65                   False             1   \n999991                2.50       10.00                   False             1   \n999992                2.50        5.00                   False             1   \n999993                2.50        7.50                   False             1   \n999994                2.78        7.78                    True             4   \n999995                2.55        9.55                   False             1   \n999996                2.80       25.80                   False             1   \n999997                0.00       12.50                    True             2   \n999998                2.55        5.05                   False             1   \n999999                2.50        7.50                   False             1   \n\n                    Pickup Centroid Location  \\\n0       POINT (-87.6631958495 41.9654457842)   \n1       POINT (-87.6262105324 41.8991556134)   \n2       POINT (-87.6305800611 41.8612808467)   \n3       POINT (-87.9030396611 41.9790708201)   \n4       POINT (-87.7942692959 41.9956031347)   \n5       POINT (-87.6842894005 41.8921964292)   \n6       POINT (-87.7220523299 41.9337850524)   \n7       POINT (-87.7209182385 41.9000696026)   \n8       POINT (-87.7655016086 41.9272609555)   \n9       POINT (-87.6327464887 41.8809944707)   \n10      POINT (-87.7078663416 41.8615808621)   \n11      POINT (-87.6424975271 41.7771962546)   \n12      POINT (-87.9030396611 41.9790708201)   \n13       POINT (-87.7509342894 41.785998518)   \n14      POINT (-87.7209182385 41.9000696026)   \n15      POINT (-87.6161341112 41.7632467988)   \n16      POINT (-87.7234523905 41.9535821253)   \n17      POINT (-87.6618611238 41.8741766252)   \n18       POINT (-87.6439653703 41.949829346)   \n19      POINT (-87.6327464887 41.8809944707)   \n20      POINT (-87.6568039088 41.9491397709)   \n21       POINT (-87.630963601 41.9094956686)   \n22      POINT (-87.6209929134 41.8849871918)   \n23      POINT (-87.6378442095 41.8932163595)   \n24       POINT (-87.6467820813 41.938232293)   \n25      POINT (-87.5949254391 41.7788768603)   \n26      POINT (-87.6499072264 41.9049353016)   \n27      POINT (-87.6572331997 41.8852813201)   \n28      POINT (-87.7376199977 41.9350581526)   \n29      POINT (-87.6197106717 41.8950334495)   \n...                                      ...   \n999970  POINT (-87.9030396611 41.9790708201)   \n999971  POINT (-87.6788459662 41.9725625375)   \n999972  POINT (-87.6716536214 41.8786674201)   \n999973  POINT (-87.6327464887 41.8809944707)   \n999974  POINT (-87.6262149064 41.8925077809)   \n999975  POINT (-87.6262149064 41.8925077809)   \n999976  POINT (-87.5982558383 41.7061257523)   \n999977  POINT (-87.5874792581 41.8059116993)   \n999978  POINT (-87.6517705068 41.9426918444)   \n999979  POINT (-87.5812710169 41.7642434593)   \n999980  POINT (-87.5949254391 41.7788768603)   \n999981  POINT (-87.6494887289 41.9226862843)   \n999982  POINT (-87.6318639497 41.8920421365)   \n999983  POINT (-87.6806541164 41.8773834707)   \n999984  POINT (-87.6314065252 41.8710158803)   \n999985   POINT (-87.5349029012 41.707311449)   \n999986                                   NaN   \n999987  POINT (-87.7213158985 41.8990616211)   \n999988  POINT (-87.6197106717 41.8950334495)   \n999989   POINT (-87.642648998 41.8792550844)   \n999990  POINT (-87.6634164054 41.9867117999)   \n999991   POINT (-87.642648998 41.8792550844)   \n999992  POINT (-87.6288741572 41.8920726347)   \n999993  POINT (-87.6318639497 41.8920421365)   \n999994  POINT (-87.7083657043 41.7457577128)   \n999995  POINT (-87.6262149064 41.8925077809)   \n999996   POINT (-87.6439653703 41.949829346)   \n999997  POINT (-87.6178596758 41.8129489392)   \n999998  POINT (-87.6327464887 41.8809944707)   \n999999  POINT (-87.6159695226 41.7402057565)   \n\n                   Dropoff Centroid Location  \n0       POINT (-87.6573411073 41.9727095466)  \n1       POINT (-87.6850821101 41.9212731053)  \n2        POINT (-87.6753116216 41.906025969)  \n3                                        NaN  \n4                                        NaN  \n5       POINT (-87.6641882421 41.9799124453)  \n6                                        NaN  \n7       POINT (-87.6875155152 41.9751709433)  \n8       POINT (-87.6424975271 41.7771962546)  \n9       POINT (-87.6428084655 41.8853000224)  \n10                                       NaN  \n11      POINT (-87.5961833442 41.8089162826)  \n12                                       NaN  \n13      POINT (-87.6219716519 41.8774061234)  \n14       POINT (-87.6635175498 41.874005383)  \n15      POINT (-87.5727819867 41.7615779081)  \n16       POINT (-87.913624596 41.9802643146)  \n17      POINT (-87.6219716519 41.8774061234)  \n18      POINT (-87.6188683546 41.8909220259)  \n19      POINT (-87.6288741572 41.8920726347)  \n20      POINT (-87.6209929134 41.8849871918)  \n21      POINT (-87.6318639497 41.8920421365)  \n22      POINT (-87.6750856208 41.8704150003)  \n23      POINT (-87.6209929134 41.8849871918)  \n24      POINT (-87.6542980837 41.9462945357)  \n25       POINT (-87.6333080367 41.899602111)  \n26      POINT (-87.6564115308 41.9362371791)  \n27      POINT (-87.6523653588 41.9636331692)  \n28      POINT (-87.6515625922 41.9363101308)  \n29       POINT (-87.6935387966 41.853834685)  \n...                                      ...  \n999970  POINT (-87.6997544065 41.9211259143)  \n999971  POINT (-87.6639582144 42.0094125471)  \n999972  POINT (-87.6209929134 41.8849871918)  \n999973  POINT (-87.6188683546 41.8909220259)  \n999974  POINT (-87.6327464887 41.8809944707)  \n999975  POINT (-87.6409015248 41.9074128162)  \n999976  POINT (-87.5982558383 41.7061257523)  \n999977  POINT (-87.6192497579 41.8274416865)  \n999978   POINT (-87.6453787624 41.962178629)  \n999979                                   NaN  \n999980  POINT (-87.6161341112 41.7632467988)  \n999981  POINT (-87.7696154528 41.7925923603)  \n999982  POINT (-87.6750856208 41.8704150003)  \n999983  POINT (-87.6429586652 41.8679024175)  \n999984  POINT (-87.6314065252 41.8710158803)  \n999985   POINT (-87.6333080367 41.899602111)  \n999986   POINT (-87.667569312 41.8502663663)  \n999987   POINT (-87.674506788 41.8923550478)  \n999988  POINT (-87.6462109769 41.9218549112)  \n999989                                   NaN  \n999990   POINT (-87.913624596 41.9802643146)  \n999991  POINT (-87.6318639497 41.8920421365)  \n999992  POINT (-87.6318639497 41.8920421365)  \n999993  POINT (-87.6314065252 41.8710158803)  \n999994  POINT (-87.6203346241 41.8571838585)  \n999995  POINT (-87.6327464887 41.8809944707)  \n999996  POINT (-87.6219716519 41.8774061234)  \n999997  POINT (-87.6251921424 41.8788655841)  \n999998  POINT (-87.6219716519 41.8774061234)  \n999999  POINT (-87.6161341112 41.7632467988)  \n\n[1000000 rows x 14 columns]"
     },
     "execution_count": 43,
     "metadata": {},
     "output_type": "execute_result"
    }
   ],
   "source": [
    "data_sets['uber_tips']"
   ]
  },
  {
   "cell_type": "markdown",
   "metadata": {
    "colab_type": "text",
    "id": "-rzOr32Z6ARN"
   },
   "source": [
    "### 3.4. Model Evaluation\n",
    "* Evaluate the performance of your algorithms on appropriate evaluation metrics, using your validation set\n",
    "* Interpret your results from multiple models (and hypothesis tests, if any)"
   ]
  },
  {
   "cell_type": "markdown",
   "metadata": {
    "colab_type": "text",
    "id": "llw9GTFU6ARN"
   },
   "source": [
    "### 3.5. Model Optimization\n",
    "* Tune your models using appropriate hyperparameters\n",
    "* Explain why you are doing this (e.g., to avoid overfitting, etc.)"
   ]
  },
  {
   "cell_type": "markdown",
   "metadata": {
    "colab_type": "text",
    "id": "HUFCSNaV6ARO"
   },
   "source": [
    "### 3.6. Model Testing\n",
    "* Test your tuned algorithms using your testing set"
   ]
  },
  {
   "cell_type": "markdown",
   "metadata": {
    "colab_type": "text",
    "id": "ZcY99Uxf6ARO"
   },
   "source": [
    "<a id=\"4\"></a>\n",
    "<hr style=\"height:2px; border:none; color:black; background-color:black;\">"
   ]
  },
  {
   "cell_type": "markdown",
   "metadata": {
    "colab_type": "text",
    "id": "sGoVDJbF6ARP"
   },
   "source": [
    "## 4. DISCUSSION\n",
    "* Provide a summary of the steps you took to analyze your data and test your predictive model\n",
    "* Intepret your findings from 3.4., 3.5, and 3.6\n",
    "    * Which algorithms did you compare?\n",
    "    * Which algorithm(s) revealed best performance?\n",
    "    * Which algorithm(s) should be used for your predictive model?\n",
    "* If you tested hypotheses, interpret the results. What does it mean to have significant/non-significant differences with regards to your data?\n",
    "\n",
    "\n",
    "* End this section with a conclusion paragraph containing some pointers for future work \n",
    "    *(e.g., get more data, perform another analysis, etc.)"
   ]
  },
  {
   "cell_type": "markdown",
   "metadata": {
    "colab_type": "text",
    "id": "4Wgs5bw96ARP"
   },
   "source": [
    "<a id=\"5\"></a>\n",
    "<hr style=\"height:2px; border:none; color:black; background-color:black;\">"
   ]
  },
  {
   "cell_type": "markdown",
   "metadata": {
    "colab_type": "text",
    "id": "m6cy_S8w6ARQ"
   },
   "source": [
    "### CONTRIBUTIONS\n",
    "* Describe each team member's contributions to the report (who did what in each section)\n",
    "* Remember this is a team effort!\n",
    "* Each member of your team will provide peer evaluation of other team members. Your final grade on the project will be based on those peer evaluations. "
   ]
  }
 ],
 "metadata": {
  "colab": {
   "collapsed_sections": [],
   "name": "DS3000_FP4_Section2_Group12.ipynb",
   "provenance": []
  },
  "kernelspec": {
   "display_name": "Python 3",
   "language": "python",
   "name": "python3"
  },
  "language_info": {
   "codemirror_mode": {
    "name": "ipython",
    "version": 3
   },
   "file_extension": ".py",
   "mimetype": "text/x-python",
   "name": "python",
   "nbconvert_exporter": "python",
   "pygments_lexer": "ipython3",
   "version": "3.7.1"
  }
 },
 "nbformat": 4,
 "nbformat_minor": 1
}