{
 "cells": [
  {
   "cell_type": "markdown",
   "metadata": {
    "colab_type": "text",
    "id": "osRx8CLo6ARD"
   },
   "source": [
    "<center> <h2> DS 3000 - Fall 2019</h2> </center>\n",
    "<center> <h3> DS Report </h3> </center>\n"
   ]
  },
  {
   "cell_type": "markdown",
   "metadata": {
    "colab_type": "text",
    "id": "ONWPvHJl6ARF"
   },
   "source": [
    "<center> <h1> Northeastern Transportation Analysis</h1> </center>\n",
    "<center><h4>Benjamin Jacobson, Divit Koradia, Kyle Chu</h4></center>\n"
   ]
  },
  {
   "cell_type": "markdown",
   "metadata": {
    "colab_type": "text",
    "id": "Ip8rLjrw6ARF"
   },
   "source": [
    "\n",
    "\n",
    "  "
   ]
  },
  {
   "cell_type": "markdown",
   "metadata": {
    "colab_type": "text",
    "id": "QA0PyejY6ARG"
   },
   "source": [
    "<hr style=\"height:2px; border:none; color:black; background-color:black;\">"
   ]
  },
  {
   "cell_type": "markdown",
   "metadata": {
    "colab_type": "text",
    "id": "VhLJ1Xot6ARG"
   },
   "source": [
    "#### Executive Summary:\n",
    "\n",
    "Add your summary here (100-150 words)\n",
    "\n",
    "Provide a brief summary of your project. After reading this executive summary, your readers should have a rough understanding of what you did in this project. You can think of this summary in terms of the four sections of the report and write 1-2 sentences describing each section.\n",
    "\n"
   ]
  },
  {
   "cell_type": "markdown",
   "metadata": {
    "colab_type": "text",
    "id": "u2b-SS807KAC"
   },
   "source": [
    " Have you ever wondered what is the best way to get from Mission Hill to Northeastern campus and vice versa? When you’re in a rush calculating the time and cost of different transportation types can be tedious. Our goal is to find an answer to the best transportation type in terms of speed and cost. We will be looking at MBTA, Uber, and Bluebikes. We will be comparing the average time and cost it takes people to make it from Mission Hill to Northeastern and vice versa. Our datasets are pulled from the different transportation types websites. The data includes the time it takes to complete trips, so for Uber the time from pickup to drop off, Bluebikes it’s time for a rider to go from one station to another, and for MBTA Roxbury Crossing to Ruggles and Brigham Circle to Northeastern. Bluebikes and Uber also have the cost of each trip. MBTA and Bluebikes also have the option for a fixed cost ride structure where you can pay one price for the whole trip or use a monthly or yearly pass. We plan to measure from a point on campus to a point on Mission Hill. We will take into account average / estimated walking speeds from a station to the point.\n"
   ]
  },
  {
   "cell_type": "markdown",
   "metadata": {
    "colab_type": "text",
    "id": "1iP4g7zA6ARH"
   },
   "source": [
    "<hr style=\"height:2px; border:none; color:black; background-color:black;\">"
   ]
  },
  {
   "cell_type": "markdown",
   "metadata": {
    "colab_type": "text",
    "id": "boTet8OY6ARH"
   },
   "source": [
    "## Outline\n",
    "1. <a href='#1'>INTRODUCTION</a>\n",
    "2. <a href='#2'>METHOD</a>\n",
    "3. <a href='#3'>RESULTS</a>\n",
    "4. <a href='#4'>DISCUSSION</a>"
   ]
  },
  {
   "cell_type": "markdown",
   "metadata": {
    "colab_type": "text",
    "id": "Z-2Trmbo6ARH"
   },
   "source": [
    "<a id=\"1\"></a>\n",
    "<hr style=\"height:2px; border:none; color:black; background-color:black;\">"
   ]
  },
  {
   "cell_type": "markdown",
   "metadata": {
    "colab_type": "text",
    "id": "lNZem1t06ARI"
   },
   "source": [
    "## 1. INTRODUCTION"
   ]
  },
  {
   "cell_type": "markdown",
   "metadata": {
    "colab_type": "text",
    "id": "jok0VLR_6ARI"
   },
   "source": [
    "In this section, orient your readers to your project. You've already written some of these in previous deliverables. Based on your final analysis, revise your problem statement and write a concise introduction section. This section should touch upon the following points, but should be written in full paragraphs. Your writing should incorporate all of these points (and more if you like) in a coherent way. Remember that you are trying to convince your readers that this is an important problem to tackle. \n",
    "\n",
    "Problem Statement\n",
    "* Describe the problem you would like to tackle.   \n",
    "* What is the topic of your project? \n",
    "* What do you want to learn about it?    \n",
    "    - We want to find the best transportation method between Northeastern and Mission Hill. Lots of students live off campus near mission hill, so we'd like to help them get to campus more effectively. \n",
    "    - Transportation between two points, based on personal preferences. \n",
    "    - Depending on the person, which mode of transportation would be the most effective for them to get to campus. \n",
    "\n",
    "\n",
    "Significance of the Problem\n",
    "* Why is it important to tackle this problem in your project?\n",
    "* In what ways could the insights from this project be useful?\n",
    "* Has there been previous work on your topic? Do some research into your topic. Cite your sources appropriately. You can use the numbered reference format or APA (if you are more comfortable with it).\n",
    "\n",
    "     - It's important for us to find the best mode of transportation for each individual person as Northeastern has a very large demographic of students living/commuting to and from Mission Hill. Based on how prospective users value time, money, distance, and wait-time, we'd like to show which mode of transportation would be best fit. There hasn't been previous work on our topic. The most similar reasearch has been in estimating prices in Boston, but not choosing optimal modes of transportation. \n",
    "     - \n",
    "\n",
    "Questions/Hypothesis\n",
    "* End this section with a list of questions and hypotheses\n",
    "* You should tie these questions/hypotheses to the problem statement and its significance\n",
    "    * e.g. Given the aforementioned problem and its importance, we set out to tackle the following questions:\n",
    "    \n",
    "    \n",
    "    Which mode of transportation is best:\n",
    "    Which mode of transportation has the lowest average wait time for rides?\n",
    "    Which mode of transportation has the lowest average trip time from point A to point B?\n",
    "    Which mode of transportation has the least amount of walking on average?\n",
    "    Which mode of transportation has the lowest average cost?\n",
    "\n",
    "    \n",
    "    H0: MBTA >= Uber and Bluebikes\n",
    "    H1: MBTA < Uber and Bluebikes\n",
    "    The average cost for a trip will be lowest for MBTA and highest for Uber(Cost / Distance, Cost / Time) \n",
    "\n",
    "    H0: Bluebikes >= MBTA and Bluebikes\n",
    "    H1: Bluebikes < MBTA and Bluebikes\n",
    "    Average total commute time will be lowest for Bluebike and highest for MBTA\n",
    "\n",
    "    H0: Uber >= MBTA and Bluebikes\n",
    "    H1: Uber < MBTA and Bluebikes\n",
    "    Average walking time will be lowest for Uber and highest for MBTA\n",
    "\n",
    "    H0: Bluebikes >= MBTA and Uber\n",
    "    H1: Bluebikes < MBTA and Uber\n",
    "    Average wait time will be lowest for Bluebikes and highest for MBTA\n",
    "\n",
    "\n",
    "**Requirement:**\n",
    "* You should have at least one question tapping into the comparison of various machine learning algorithms in predicting your target variable from your features variables."
   ]
  },
  {
   "cell_type": "code",
   "execution_count": null,
   "metadata": {},
   "outputs": [],
   "source": []
  },
  {
   "cell_type": "markdown",
   "metadata": {
    "colab_type": "text",
    "id": "1JGgr0ZW6ARJ"
   },
   "source": [
    "<a id=\"2\"></a>\n",
    "<hr style=\"height:2px; border:none; color:black; background-color:black;\">"
   ]
  },
  {
   "cell_type": "markdown",
   "metadata": {
    "colab_type": "text",
    "id": "8z7TxRur6ARJ"
   },
   "source": [
    "## 2. METHOD"
   ]
  },
  {
   "cell_type": "markdown",
   "metadata": {
    "colab_type": "text",
    "id": "E_OPQa0I6ARK"
   },
   "source": [
    "### 2.1. Data Acquisition\n",
    "\n",
    "* Describe where you obtained your data. Provide a link to the original source. \n",
    "* If you scraped your data, include your code as a script file.\n",
    "* Your data should be stored in an online repository (e.g., GitHub) and your code should retrieve your data from that online resource. You can read csv files from the Web in the same way that you read files from local drive.\n",
    "* Describe the dataset and variables. What do variables represent?\n"
   ]
  },
  {
   "cell_type": "code",
   "execution_count": null,
   "metadata": {},
   "outputs": [],
   "source": [
    "https://www.ctps.org/apps/mbtasurvey2018/#navButton\n",
    "    \n",
    "    \n",
    "https://www.bluebikes.com/system-data\n",
    "    \n",
    "https://movement.uber.com/explore/boston/travel-times/query?si=302&ti=1118&ag=censustracts&dt[tpb]=ALL_DAY&dt[wd;]=1,2,3,4,5,6,7&dt[dr][sd]=2019-06-01&dt[dr][ed]=2019-06-30&cd=&sa;=-71.0908821,42.3391989&sdn=Northeastern%20University%20School%20of%20Law,%20416%20Huntington%20Ave,%20Boston,%20MA&lng.=-71.2121505&lat.=42.3599474&z.=11.49&ta;=-71.0993596,42.3330516&tdn=Mission%20Hill%20Playground,%20Boston,%20MA&lang=en-US\n",
    "#NEU to Mission Hill\n",
    "\n",
    "\n"
   ]
  },
  {
   "cell_type": "markdown",
   "metadata": {
    "colab_type": "text",
    "id": "qBu9v-HN6ARK"
   },
   "source": [
    "### 2.2. Variables\n",
    "* If you are testing hypotheses, what are your IVs and DVs?\n",
    "* For your predictive models, what are your features and target variables?\n"
   ]
  },
  {
   "cell_type": "markdown",
   "metadata": {
    "colab_type": "text",
    "id": "6oa6QpNR6ARL"
   },
   "source": [
    "### 2.3. Data Analysis\n",
    "* Specifically describe your predictive model. What outcome variable are you going to predict from what feature variables?\n",
    "* Describe whether this is a supervised or unsupervised learning problem. Also identify the sub-category of the learning task (e.g. classification).\n",
    "* What machine learning algorithms are you going to use? Why?"
   ]
  },
  {
   "cell_type": "markdown",
   "metadata": {
    "colab_type": "text",
    "id": "ZC6qAG3F6ARL"
   },
   "source": [
    "<a id=\"3\"></a>\n",
    "<hr style=\"height:2px; border:none; color:black; background-color:black;\">"
   ]
  },
  {
   "cell_type": "markdown",
   "metadata": {
    "colab_type": "text",
    "id": "LwYXVK-O6ARL"
   },
   "source": [
    "## 3. RESULTS"
   ]
  },
  {
   "cell_type": "markdown",
   "metadata": {
    "colab_type": "text",
    "id": "gfTrIL8-6ARM"
   },
   "source": [
    "### 3.1. Data Wrangling\n",
    "* Perform simple data cleaning (delete extra columns, deal with NA values, etc.)\n",
    "* Perform data wrangling to extract your features and target values (e.g., grouping your dataframe by columns, applying functions to format dataframes, etc.)\n",
    "* Preprocess your variables (e.g., scaling/transforming feature variables to normalize them)\n",
    "* Feature extraction (dummy variables, new features from existing features, etc.)\n",
    "* Use one feature selection technique to select a subset of your original features\n"
   ]
  },
  {
   "cell_type": "markdown",
   "metadata": {
    "colab_type": "text",
    "id": "Sl0nr0LY6ARM"
   },
   "source": [
    "### 3.2. Data Exploration\n",
    "* Generate appropriate data visualizations for your key variables identified in the previous section\n",
    "* You should have at least three visualizations (and at least two different visualization types)\n",
    "* For each visualization provide an explanation regarding the variables involved and an interpretation of the graph.\n",
    "* If you are using Plotly, insert your visualizations as images as well (upload the graph images to an online source, e.g. github, and link those in Jupyter Notebook)\n"
   ]
  },
  {
   "cell_type": "code",
   "execution_count": 5,
   "metadata": {},
   "outputs": [
    {
     "name": "stderr",
     "output_type": "stream",
     "text": "D:\\Anaconda\\lib\\site-packages\\IPython\\core\\interactiveshell.py:3020: DtypeWarning: Columns (9,12) have mixed types. Specify dtype option on import or set low_memory=False.\n  interactivity=interactivity, compiler=compiler, result=result)\n"
    },
    {
     "data": {
      "text/html": "<div>\n<style scoped>\n    .dataframe tbody tr th:only-of-type {\n        vertical-align: middle;\n    }\n\n    .dataframe tbody tr th {\n        vertical-align: top;\n    }\n\n    .dataframe thead th {\n        text-align: right;\n    }\n</style>\n<table border=\"1\" class=\"dataframe\">\n  <thead>\n    <tr style=\"text-align: right;\">\n      <th></th>\n      <th>Trip ID</th>\n      <th>Trip Start Timestamp</th>\n      <th>Trip End Timestamp</th>\n      <th>Trip Seconds</th>\n      <th>Trip Miles</th>\n      <th>Pickup Census Tract</th>\n      <th>Dropoff Census Tract</th>\n      <th>Pickup Community Area</th>\n      <th>Dropoff Community Area</th>\n      <th>Fare</th>\n      <th>...</th>\n      <th>Additional Charges</th>\n      <th>Trip Total</th>\n      <th>Shared Trip Authorized</th>\n      <th>Trips Pooled</th>\n      <th>Pickup Centroid Latitude</th>\n      <th>Pickup Centroid Longitude</th>\n      <th>Pickup Centroid Location</th>\n      <th>Dropoff Centroid Latitude</th>\n      <th>Dropoff Centroid Longitude</th>\n      <th>Dropoff Centroid Location</th>\n    </tr>\n  </thead>\n  <tbody>\n    <tr>\n      <th>0</th>\n      <td>de3fd27d2229818c961bd74b3954d97c7bcc3664</td>\n      <td>11/01/2018 12:00:00 AM</td>\n      <td>11/01/2018 12:15:00 AM</td>\n      <td>374</td>\n      <td>1.782258</td>\n      <td>NaN</td>\n      <td>NaN</td>\n      <td>58.0</td>\n      <td>66.0</td>\n      <td>7.5</td>\n      <td>...</td>\n      <td>0.0</td>\n      <td>7.5</td>\n      <td>True</td>\n      <td>1</td>\n      <td>41.817366</td>\n      <td>-87.698861</td>\n      <td>POINT (-87.6988607973 41.8173662079)</td>\n      <td>41.771849</td>\n      <td>-87.695666</td>\n      <td>POINT (-87.695666342 41.7718485152)</td>\n    </tr>\n    <tr>\n      <th>1</th>\n      <td>e03d12d43f4158884c2243ebb2c0234888086fa9</td>\n      <td>11/01/2018 12:00:00 AM</td>\n      <td>11/01/2018 12:15:00 AM</td>\n      <td>408</td>\n      <td>2.150144</td>\n      <td>NaN</td>\n      <td>NaN</td>\n      <td>31.0</td>\n      <td>59.0</td>\n      <td>5</td>\n      <td>...</td>\n      <td>0.0</td>\n      <td>5</td>\n      <td>True</td>\n      <td>1</td>\n      <td>41.850266</td>\n      <td>-87.667569</td>\n      <td>POINT (-87.667569312 41.8502663663)</td>\n      <td>41.829922</td>\n      <td>-87.672503</td>\n      <td>POINT (-87.6725026464 41.8299223039)</td>\n    </tr>\n    <tr>\n      <th>2</th>\n      <td>e0b0aef3ed9d28edd30500bc08f8bee3fe9348db</td>\n      <td>11/01/2018 12:00:00 AM</td>\n      <td>11/01/2018 12:15:00 AM</td>\n      <td>504</td>\n      <td>3.389895</td>\n      <td>1.703183e+10</td>\n      <td>1.703184e+10</td>\n      <td>28.0</td>\n      <td>33.0</td>\n      <td>7.5</td>\n      <td>...</td>\n      <td>2.5</td>\n      <td>10</td>\n      <td>False</td>\n      <td>1</td>\n      <td>41.879067</td>\n      <td>-87.657005</td>\n      <td>POINT (-87.657005027 41.8790669938)</td>\n      <td>41.849247</td>\n      <td>-87.624135</td>\n      <td>POINT (-87.6241352979 41.8492467545)</td>\n    </tr>\n    <tr>\n      <th>3</th>\n      <td>e0b1a906bbe625662cf40770d7ec43cb1aa311bb</td>\n      <td>11/01/2018 12:00:00 AM</td>\n      <td>11/01/2018 12:15:00 AM</td>\n      <td>934</td>\n      <td>5.518289</td>\n      <td>NaN</td>\n      <td>NaN</td>\n      <td>8.0</td>\n      <td>35.0</td>\n      <td>10</td>\n      <td>...</td>\n      <td>0.0</td>\n      <td>10</td>\n      <td>True</td>\n      <td>1</td>\n      <td>41.899602</td>\n      <td>-87.633308</td>\n      <td>POINT (-87.6333080367 41.899602111)</td>\n      <td>41.835118</td>\n      <td>-87.618678</td>\n      <td>POINT (-87.6186777673 41.8351179863)</td>\n    </tr>\n    <tr>\n      <th>4</th>\n      <td>e0d82541bfc9de06172a45643d32330363010d1b</td>\n      <td>11/01/2018 12:00:00 AM</td>\n      <td>11/01/2018 12:15:00 AM</td>\n      <td>737</td>\n      <td>3.834838</td>\n      <td>1.703108e+10</td>\n      <td>1.703107e+10</td>\n      <td>8.0</td>\n      <td>7.0</td>\n      <td>7.5</td>\n      <td>...</td>\n      <td>0.0</td>\n      <td>8.5</td>\n      <td>True</td>\n      <td>1</td>\n      <td>41.892042</td>\n      <td>-87.631864</td>\n      <td>POINT (-87.6318639497 41.8920421365)</td>\n      <td>41.930579</td>\n      <td>-87.642206</td>\n      <td>POINT (-87.6422063127 41.9305785697)</td>\n    </tr>\n  </tbody>\n</table>\n<p>5 rows × 21 columns</p>\n</div>",
      "text/plain": "                                    Trip ID    Trip Start Timestamp  \\\n0  de3fd27d2229818c961bd74b3954d97c7bcc3664  11/01/2018 12:00:00 AM   \n1  e03d12d43f4158884c2243ebb2c0234888086fa9  11/01/2018 12:00:00 AM   \n2  e0b0aef3ed9d28edd30500bc08f8bee3fe9348db  11/01/2018 12:00:00 AM   \n3  e0b1a906bbe625662cf40770d7ec43cb1aa311bb  11/01/2018 12:00:00 AM   \n4  e0d82541bfc9de06172a45643d32330363010d1b  11/01/2018 12:00:00 AM   \n\n       Trip End Timestamp Trip Seconds  Trip Miles  Pickup Census Tract  \\\n0  11/01/2018 12:15:00 AM          374    1.782258                  NaN   \n1  11/01/2018 12:15:00 AM          408    2.150144                  NaN   \n2  11/01/2018 12:15:00 AM          504    3.389895         1.703183e+10   \n3  11/01/2018 12:15:00 AM          934    5.518289                  NaN   \n4  11/01/2018 12:15:00 AM          737    3.834838         1.703108e+10   \n\n   Dropoff Census Tract  Pickup Community Area  Dropoff Community Area Fare  \\\n0                   NaN                   58.0                    66.0  7.5   \n1                   NaN                   31.0                    59.0    5   \n2          1.703184e+10                   28.0                    33.0  7.5   \n3                   NaN                    8.0                    35.0   10   \n4          1.703107e+10                    8.0                     7.0  7.5   \n\n                   ...                   Additional Charges  Trip Total  \\\n0                  ...                                  0.0         7.5   \n1                  ...                                  0.0           5   \n2                  ...                                  2.5          10   \n3                  ...                                  0.0          10   \n4                  ...                                  0.0         8.5   \n\n  Shared Trip Authorized  Trips Pooled  Pickup Centroid Latitude  \\\n0                   True             1                 41.817366   \n1                   True             1                 41.850266   \n2                  False             1                 41.879067   \n3                   True             1                 41.899602   \n4                   True             1                 41.892042   \n\n   Pickup Centroid Longitude              Pickup Centroid Location  \\\n0                 -87.698861  POINT (-87.6988607973 41.8173662079)   \n1                 -87.667569   POINT (-87.667569312 41.8502663663)   \n2                 -87.657005   POINT (-87.657005027 41.8790669938)   \n3                 -87.633308   POINT (-87.6333080367 41.899602111)   \n4                 -87.631864  POINT (-87.6318639497 41.8920421365)   \n\n  Dropoff Centroid Latitude  Dropoff Centroid Longitude  \\\n0                 41.771849                  -87.695666   \n1                 41.829922                  -87.672503   \n2                 41.849247                  -87.624135   \n3                 41.835118                  -87.618678   \n4                 41.930579                  -87.642206   \n\n              Dropoff Centroid Location  \n0   POINT (-87.695666342 41.7718485152)  \n1  POINT (-87.6725026464 41.8299223039)  \n2  POINT (-87.6241352979 41.8492467545)  \n3  POINT (-87.6186777673 41.8351179863)  \n4  POINT (-87.6422063127 41.9305785697)  \n\n[5 rows x 21 columns]"
     },
     "execution_count": 5,
     "metadata": {},
     "output_type": "execute_result"
    }
   ],
   "source": [
    "import pandas as pd\n",
    "import numpy as np\n",
    "\n",
    "data_sets = {}\n",
    "\n",
    "data_sets['bluebikes_data'] = pd.read_csv('./data_sets/Bluebikes_Data.csv')\n",
    "data_sets['uber_ids'] = pd.read_csv('./data_sets/Uber_Data_IDs.csv')\n",
    "data_sets['uber_mh_neu'] = pd.read_csv('./data_sets/Uber_Data_MH_NEU.csv')\n",
    "data_sets['uber_neu_mh'] = pd.read_csv('./data_sets/Uber_Data_NEU_MH.csv')\n",
    "data_sets['uber_neu_mh_monthly'] = pd.read_csv('./data_sets/Uber_Data_NEU_MH_Monthly.csv')\n",
    "\n",
    "uber_tip_data = pd.read_csv('C:/Users/kchu1/Downloads/Transportation_Network_Providers_-_Trips.csv')\n",
    "\n",
    "uber_tip_data.head()"
   ]
  },
  {
   "cell_type": "code",
   "execution_count": 7,
   "metadata": {},
   "outputs": [
    {
     "data": {
      "text/html": "<div>\n<style scoped>\n    .dataframe tbody tr th:only-of-type {\n        vertical-align: middle;\n    }\n\n    .dataframe tbody tr th {\n        vertical-align: top;\n    }\n\n    .dataframe thead th {\n        text-align: right;\n    }\n</style>\n<table border=\"1\" class=\"dataframe\">\n  <thead>\n    <tr style=\"text-align: right;\">\n      <th></th>\n      <th>Trip ID</th>\n      <th>Trip Start Timestamp</th>\n      <th>Trip End Timestamp</th>\n      <th>Trip Seconds</th>\n      <th>Trip Miles</th>\n      <th>Pickup Census Tract</th>\n      <th>Dropoff Census Tract</th>\n      <th>Pickup Community Area</th>\n      <th>Dropoff Community Area</th>\n      <th>Fare</th>\n      <th>...</th>\n      <th>Additional Charges</th>\n      <th>Trip Total</th>\n      <th>Shared Trip Authorized</th>\n      <th>Trips Pooled</th>\n      <th>Pickup Centroid Latitude</th>\n      <th>Pickup Centroid Longitude</th>\n      <th>Pickup Centroid Location</th>\n      <th>Dropoff Centroid Latitude</th>\n      <th>Dropoff Centroid Longitude</th>\n      <th>Dropoff Centroid Location</th>\n    </tr>\n  </thead>\n  <tbody>\n    <tr>\n      <th>29907868</th>\n      <td>7c239ad0a936e1b01d3f3e898b455f7fe8bb50fc</td>\n      <td>02/12/2019 07:15:00 PM</td>\n      <td>02/12/2019 07:15:00 PM</td>\n      <td>248</td>\n      <td>0.746336</td>\n      <td>1.703103e+10</td>\n      <td>1.703103e+10</td>\n      <td>3.0</td>\n      <td>3.0</td>\n      <td>2.5</td>\n      <td>...</td>\n      <td>2.55</td>\n      <td>5.05</td>\n      <td>False</td>\n      <td>1</td>\n      <td>41.965446</td>\n      <td>-87.663196</td>\n      <td>POINT (-87.6631958495 41.9654457842)</td>\n      <td>41.972710</td>\n      <td>-87.657341</td>\n      <td>POINT (-87.6573411073 41.9727095466)</td>\n    </tr>\n    <tr>\n      <th>39759310</th>\n      <td>589e80cc8fdbd99a089afe483954e8eb546c8d96</td>\n      <td>03/14/2019 10:15:00 PM</td>\n      <td>03/14/2019 10:30:00 PM</td>\n      <td>900</td>\n      <td>5.371249</td>\n      <td>1.703108e+10</td>\n      <td>1.703122e+10</td>\n      <td>8.0</td>\n      <td>22.0</td>\n      <td>5</td>\n      <td>...</td>\n      <td>0.72</td>\n      <td>5.72</td>\n      <td>True</td>\n      <td>2</td>\n      <td>41.899156</td>\n      <td>-87.626211</td>\n      <td>POINT (-87.6262105324 41.8991556134)</td>\n      <td>41.921273</td>\n      <td>-87.685082</td>\n      <td>POINT (-87.6850821101 41.9212731053)</td>\n    </tr>\n    <tr>\n      <th>43596650</th>\n      <td>8134aa016415900b547c6cf806d7f3f9a28fb892</td>\n      <td>03/26/2019 01:30:00 PM</td>\n      <td>03/26/2019 01:45:00 PM</td>\n      <td>1,009</td>\n      <td>5.669338</td>\n      <td>1.703133e+10</td>\n      <td>1.703124e+10</td>\n      <td>33.0</td>\n      <td>24.0</td>\n      <td>5</td>\n      <td>...</td>\n      <td>2.55</td>\n      <td>7.55</td>\n      <td>True</td>\n      <td>4</td>\n      <td>41.861281</td>\n      <td>-87.630580</td>\n      <td>POINT (-87.6305800611 41.8612808467)</td>\n      <td>41.906026</td>\n      <td>-87.675312</td>\n      <td>POINT (-87.6753116216 41.906025969)</td>\n    </tr>\n    <tr>\n      <th>4573589</th>\n      <td>99093b3ecd45e2f76bf27c14ef27da8a3cca23d6</td>\n      <td>11/15/2018 11:00:00 PM</td>\n      <td>11/15/2018 11:15:00 PM</td>\n      <td>733</td>\n      <td>6.879594</td>\n      <td>1.703198e+10</td>\n      <td>NaN</td>\n      <td>76.0</td>\n      <td>NaN</td>\n      <td>10</td>\n      <td>...</td>\n      <td>9.52</td>\n      <td>19.52</td>\n      <td>False</td>\n      <td>1</td>\n      <td>41.979071</td>\n      <td>-87.903040</td>\n      <td>POINT (-87.9030396611 41.9790708201)</td>\n      <td>NaN</td>\n      <td>NaN</td>\n      <td>NaN</td>\n    </tr>\n    <tr>\n      <th>28449485</th>\n      <td>036d89e174aad323c06864bf7842fd9eb180706d</td>\n      <td>02/08/2019 08:30:00 AM</td>\n      <td>02/08/2019 08:45:00 AM</td>\n      <td>675</td>\n      <td>3.251938</td>\n      <td>1.703110e+10</td>\n      <td>1.703181e+10</td>\n      <td>10.0</td>\n      <td>NaN</td>\n      <td>10</td>\n      <td>...</td>\n      <td>0.00</td>\n      <td>10</td>\n      <td>True</td>\n      <td>1</td>\n      <td>41.995603</td>\n      <td>-87.794269</td>\n      <td>POINT (-87.7942692959 41.9956031347)</td>\n      <td>NaN</td>\n      <td>NaN</td>\n      <td>NaN</td>\n    </tr>\n  </tbody>\n</table>\n<p>5 rows × 21 columns</p>\n</div>",
      "text/plain": "                                           Trip ID    Trip Start Timestamp  \\\n29907868  7c239ad0a936e1b01d3f3e898b455f7fe8bb50fc  02/12/2019 07:15:00 PM   \n39759310  589e80cc8fdbd99a089afe483954e8eb546c8d96  03/14/2019 10:15:00 PM   \n43596650  8134aa016415900b547c6cf806d7f3f9a28fb892  03/26/2019 01:30:00 PM   \n4573589   99093b3ecd45e2f76bf27c14ef27da8a3cca23d6  11/15/2018 11:00:00 PM   \n28449485  036d89e174aad323c06864bf7842fd9eb180706d  02/08/2019 08:30:00 AM   \n\n              Trip End Timestamp Trip Seconds  Trip Miles  \\\n29907868  02/12/2019 07:15:00 PM          248    0.746336   \n39759310  03/14/2019 10:30:00 PM          900    5.371249   \n43596650  03/26/2019 01:45:00 PM        1,009    5.669338   \n4573589   11/15/2018 11:15:00 PM          733    6.879594   \n28449485  02/08/2019 08:45:00 AM          675    3.251938   \n\n          Pickup Census Tract  Dropoff Census Tract  Pickup Community Area  \\\n29907868         1.703103e+10          1.703103e+10                    3.0   \n39759310         1.703108e+10          1.703122e+10                    8.0   \n43596650         1.703133e+10          1.703124e+10                   33.0   \n4573589          1.703198e+10                   NaN                   76.0   \n28449485         1.703110e+10          1.703181e+10                   10.0   \n\n          Dropoff Community Area Fare                  ...                   \\\n29907868                     3.0  2.5                  ...                    \n39759310                    22.0    5                  ...                    \n43596650                    24.0    5                  ...                    \n4573589                      NaN   10                  ...                    \n28449485                     NaN   10                  ...                    \n\n          Additional Charges  Trip Total Shared Trip Authorized  Trips Pooled  \\\n29907868                2.55        5.05                  False             1   \n39759310                0.72        5.72                   True             2   \n43596650                2.55        7.55                   True             4   \n4573589                 9.52       19.52                  False             1   \n28449485                0.00          10                   True             1   \n\n          Pickup Centroid Latitude  Pickup Centroid Longitude  \\\n29907868                 41.965446                 -87.663196   \n39759310                 41.899156                 -87.626211   \n43596650                 41.861281                 -87.630580   \n4573589                  41.979071                 -87.903040   \n28449485                 41.995603                 -87.794269   \n\n                      Pickup Centroid Location Dropoff Centroid Latitude  \\\n29907868  POINT (-87.6631958495 41.9654457842)                 41.972710   \n39759310  POINT (-87.6262105324 41.8991556134)                 41.921273   \n43596650  POINT (-87.6305800611 41.8612808467)                 41.906026   \n4573589   POINT (-87.9030396611 41.9790708201)                       NaN   \n28449485  POINT (-87.7942692959 41.9956031347)                       NaN   \n\n          Dropoff Centroid Longitude             Dropoff Centroid Location  \n29907868                  -87.657341  POINT (-87.6573411073 41.9727095466)  \n39759310                  -87.685082  POINT (-87.6850821101 41.9212731053)  \n43596650                  -87.675312   POINT (-87.6753116216 41.906025969)  \n4573589                          NaN                                   NaN  \n28449485                         NaN                                   NaN  \n\n[5 rows x 21 columns]"
     },
     "execution_count": 7,
     "metadata": {},
     "output_type": "execute_result"
    }
   ],
   "source": [
    "uber_tip_data_random = uber_tip_data.sample(n=1000000)\n",
    "uber_tip_data_random.head()\n"
   ]
  },
  {
   "cell_type": "code",
   "execution_count": 9,
   "metadata": {},
   "outputs": [],
   "source": [
    "uber_tip_data_random.to_csv('Uber_Data_Tips', encoding='utf-8', index=False)"
   ]
  },
  {
   "cell_type": "code",
   "execution_count": 11,
   "metadata": {},
   "outputs": [
    {
     "data": {
      "text/plain": "(1000000, 14)"
     },
     "execution_count": 11,
     "metadata": {},
     "output_type": "execute_result"
    }
   ],
   "source": [
    "data_sets['uber_tips'] = pd.read_csv('./Uber_Data_Tips.csv')\n",
    "data_sets['uber_tips'].shape"
   ]
  },
  {
   "cell_type": "markdown",
   "metadata": {
    "colab_type": "text",
    "id": "tXg4vfc76ARN"
   },
   "source": [
    "### 3.3. Model Construction\n",
    "* If you proposed hypotheses, conduct your hypothesis tests\n",
    "* For your machine learning question(s), split data into training, validation, and testing sets (or use cross-validation)\n",
    "* Apply machine learning algorithms (apply at least three algorithms)\n",
    "* Train your algorithms"
   ]
  },
  {
   "cell_type": "markdown",
   "metadata": {
    "colab_type": "text",
    "id": "-rzOr32Z6ARN"
   },
   "source": [
    "### 3.4. Model Evaluation\n",
    "* Evaluate the performance of your algorithms on appropriate evaluation metrics, using your validation set\n",
    "* Interpret your results from multiple models (and hypothesis tests, if any)"
   ]
  },
  {
   "cell_type": "markdown",
   "metadata": {
    "colab_type": "text",
    "id": "llw9GTFU6ARN"
   },
   "source": [
    "### 3.5. Model Optimization\n",
    "* Tune your models using appropriate hyperparameters\n",
    "* Explain why you are doing this (e.g., to avoid overfitting, etc.)"
   ]
  },
  {
   "cell_type": "markdown",
   "metadata": {
    "colab_type": "text",
    "id": "HUFCSNaV6ARO"
   },
   "source": [
    "### 3.6. Model Testing\n",
    "* Test your tuned algorithms using your testing set"
   ]
  },
  {
   "cell_type": "markdown",
   "metadata": {
    "colab_type": "text",
    "id": "ZcY99Uxf6ARO"
   },
   "source": [
    "<a id=\"4\"></a>\n",
    "<hr style=\"height:2px; border:none; color:black; background-color:black;\">"
   ]
  },
  {
   "cell_type": "markdown",
   "metadata": {
    "colab_type": "text",
    "id": "sGoVDJbF6ARP"
   },
   "source": [
    "## 4. DISCUSSION\n",
    "* Provide a summary of the steps you took to analyze your data and test your predictive model\n",
    "* Intepret your findings from 3.4., 3.5, and 3.6\n",
    "    * Which algorithms did you compare?\n",
    "    * Which algorithm(s) revealed best performance?\n",
    "    * Which algorithm(s) should be used for your predictive model?\n",
    "* If you tested hypotheses, interpret the results. What does it mean to have significant/non-significant differences with regards to your data?\n",
    "\n",
    "\n",
    "* End this section with a conclusion paragraph containing some pointers for future work \n",
    "    *(e.g., get more data, perform another analysis, etc.)"
   ]
  },
  {
   "cell_type": "markdown",
   "metadata": {
    "colab_type": "text",
    "id": "4Wgs5bw96ARP"
   },
   "source": [
    "<a id=\"5\"></a>\n",
    "<hr style=\"height:2px; border:none; color:black; background-color:black;\">"
   ]
  },
  {
   "cell_type": "markdown",
   "metadata": {
    "colab_type": "text",
    "id": "m6cy_S8w6ARQ"
   },
   "source": [
    "### CONTRIBUTIONS\n",
    "* Describe each team member's contributions to the report (who did what in each section)\n",
    "* Remember this is a team effort!\n",
    "* Each member of your team will provide peer evaluation of other team members. Your final grade on the project will be based on those peer evaluations. "
   ]
  }
 ],
 "metadata": {
  "colab": {
   "collapsed_sections": [],
   "name": "DS3000_FP4_Section2_Group12.ipynb",
   "provenance": []
  },
  "kernelspec": {
   "display_name": "Python 3",
   "language": "python",
   "name": "python3"
  },
  "language_info": {
   "codemirror_mode": {
    "name": "ipython",
    "version": 3
   },
   "file_extension": ".py",
   "mimetype": "text/x-python",
   "name": "python",
   "nbconvert_exporter": "python",
   "pygments_lexer": "ipython3",
   "version": "3.7.1"
  }
 },
 "nbformat": 4,
 "nbformat_minor": 1
}