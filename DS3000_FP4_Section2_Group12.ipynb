{
 "cells": [
  {
   "cell_type": "markdown",
   "metadata": {
    "colab_type": "text",
    "id": "osRx8CLo6ARD"
   },
   "source": [
    "<center> <h2> DS 3000 - Fall 2019</h2> </center>\n",
    "<center> <h3> DS Report </h3> </center>\n"
   ]
  },
  {
   "cell_type": "markdown",
   "metadata": {
    "colab_type": "text",
    "id": "ONWPvHJl6ARF"
   },
   "source": [
    "<center> <h1> Northeastern Transportation Analysis</h1> </center>\n",
    "<center><h4>Benjamin Jacobson, Divit Koradia, Kyle Chu</h4></center>\n"
   ]
  },
  {
   "cell_type": "markdown",
   "metadata": {
    "colab_type": "text",
    "id": "Ip8rLjrw6ARF"
   },
   "source": [
    "\n",
    "\n",
    "  "
   ]
  },
  {
   "cell_type": "markdown",
   "metadata": {
    "colab_type": "text",
    "id": "QA0PyejY6ARG"
   },
   "source": [
    "<hr style=\"height:2px; border:none; color:black; background-color:black;\">"
   ]
  },
  {
   "cell_type": "markdown",
   "metadata": {
    "colab_type": "text",
    "id": "VhLJ1Xot6ARG"
   },
   "source": [
    "#### Executive Summary:\n",
    "\n",
    "Add your summary here (100-150 words)\n",
    "\n",
    "Provide a brief summary of your project. After reading this executive summary, your readers should have a rough understanding of what you did in this project. You can think of this summary in terms of the four sections of the report and write 1-2 sentences describing each section.\n",
    "\n"
   ]
  },
  {
   "cell_type": "markdown",
   "metadata": {
    "colab_type": "text",
    "id": "u2b-SS807KAC"
   },
   "source": [
    "Have you ever wondered what is the best way to get from Mission Hill to Northeastern campus and vice versa? When you’re in a rush, calculating the time of different transportation types can be tedious. Our goal is to find an answer to the best transportation type in terms of time traveling. We will be looking at MBTA, Uber, and Bluebikes. We will be comparing the average time it takes people to make it from Mission Hill to Northeastern and vice versa. Our datasets are pulled from the different transportation types websites. The data includes the time it takes to complete trips:\n",
    "1. For Uber the time from pickup to drop off, \n",
    "2. For Bluebikes it’s time for a rider to go from one station to another\n",
    "3. For MBTA Roxbury Crossing to Ruggles and Brigham Circle to Northeastern. \n",
    "\n",
    "In order to find the mean average time for each mode of transportation, we will add the following variables: \n",
    "wait time(if any) + walking time to pickup location (if any) + travel time from pickup to drop off  location + walking time from drop off location to final destination(if any). \n",
    "\n",
    "Our analysis consists of comparing the time it takes for each mode of transportation to reach from multiple point in Mission Hill to Northeastern University and vice-versa.\n",
    "\n",
    "As Uber Boston does not release any pricing data, we chose Uber Chicago’s dataset to use for Machine Learning. As this dataset had tip data for every trip, we use machine learning to guess the tip amount a rider will give depending on a given ride. We took into account features such as the length and time of the ride and the day of the week.\n"
   ]
  },
  {
   "cell_type": "markdown",
   "metadata": {
    "colab_type": "text",
    "id": "1iP4g7zA6ARH"
   },
   "source": [
    "<hr style=\"height:2px; border:none; color:black; background-color:black;\">"
   ]
  },
  {
   "cell_type": "markdown",
   "metadata": {
    "colab_type": "text",
    "id": "boTet8OY6ARH"
   },
   "source": [
    "## Outline\n",
    "1. <a href='#1'>INTRODUCTION</a>\n",
    "2. <a href='#2'>METHOD</a>\n",
    "3. <a href='#3'>RESULTS</a>\n",
    "4. <a href='#4'>DISCUSSION</a>"
   ]
  },
  {
   "cell_type": "markdown",
   "metadata": {
    "colab_type": "text",
    "id": "Z-2Trmbo6ARH"
   },
   "source": [
    "<a id=\"1\"></a>\n",
    "<hr style=\"height:2px; border:none; color:black; background-color:black;\">"
   ]
  },
  {
   "cell_type": "markdown",
   "metadata": {
    "colab_type": "text",
    "id": "lNZem1t06ARI"
   },
   "source": [
    "## 1. INTRODUCTION"
   ]
  },
  {
   "cell_type": "markdown",
   "metadata": {
    "colab_type": "text",
    "id": "jok0VLR_6ARI"
   },
   "source": [
    "In this section, orient your readers to your project. You've already written some of these in previous deliverables. Based on your final analysis, revise your problem statement and write a concise introduction section. This section should touch upon the following points, but should be written in full paragraphs. Your writing should incorporate all of these points (and more if you like) in a coherent way. Remember that you are trying to convince your readers that this is an important problem to tackle. \n",
    "\n",
    "#### Problem Statement\n",
    "The majority of students who live off campus live in Mission Hill. There are many modes of transportation to commute to and from campus from Mission Hill, but it’s hard to discern which is the most time efficient. We want to uncover which transportation method is most time effective in terms of time spent traveling, time spent waiting, and distance. We will be running additional analysis on Chicago’s Uber dataset in order to predict how customers tipped their drivers. \n",
    "\n",
    "##### Significance of the Problem\n",
    "Why is it important to tackle this problem in your project?\n",
    "It's important for us to find the best mode of transportation for each individual person as Northeastern has a very large demographic of students living/commuting to and from Mission Hill. Based on how prospective users value time traveling, distance, and wait-time, we'd like to show which mode of transportation would be the best fit.\n",
    "In what ways could the insights from this project be useful?\n",
    "This would allow students to better plan their commutes. We want to help students spend less time getting to campus and from campus, and more time to better themselves academically. \n",
    "Has there been previous work on your topic? Do some research into your topic. Cite your sources appropriately. You can use the numbered reference format or APA (if you are more comfortable with it).\n",
    "There hasn't been previous work on our topic. The most similar work we could find was from a UChicago research paper where they were able to show the trends of how passengers tipped their drivers. \n",
    "https://bfi.uchicago.edu/wp-content/uploads/BFI_WP_2019128.pdf\n",
    "\n",
    "\n",
    "#### Questions/Hypothesis\n",
    "End this section with a list of questions and hypotheses\n",
    "You should tie these questions/hypotheses to the problem statement and its significance\n",
    "e.g. Given the aforementioned problem and its importance, we set out to tackle the following questions:\n",
    "\n",
    "Which mode of transportation is best?\n",
    "\n",
    "Which mode of transportation has the lowest average trip time from point A to point B?\n",
    "\n",
    "What features are most relevant when a rider is giving a tip?\n",
    "\n",
    "Is there a correlation between our features and a rider giving a tip? <br/><br/>\n",
    "\n",
    "\n",
    "H0: MBTA and Bluebikes >= Uber\n",
    "\n",
    "H1: Uber < MBTA and Bluebikes\n",
    "\n",
    "Average total commute time will be lowest for Uber <br/><br/>\n",
    "\n",
    "H0: R^2 = 0\n",
    "\n",
    "H1: R^2!= 0\n",
    "\n",
    "There is a correlation between our features and a rider tipping\n"
   ]
  },
  {
   "cell_type": "markdown",
   "metadata": {
    "colab_type": "text",
    "id": "1JGgr0ZW6ARJ"
   },
   "source": [
    "<a id=\"2\"></a>\n",
    "<hr style=\"height:2px; border:none; color:black; background-color:black;\">"
   ]
  },
  {
   "cell_type": "markdown",
   "metadata": {
    "colab_type": "text",
    "id": "8z7TxRur6ARJ"
   },
   "source": [
    "## 2. METHOD"
   ]
  },
  {
   "cell_type": "markdown",
   "metadata": {
    "colab_type": "text",
    "id": "E_OPQa0I6ARK"
   },
   "source": [
    "### 2.1. Data Acquisition\n",
    "\n",
    "* Describe where you obtained your data. Provide a link to the original source. \n",
    "* If you scraped your data, include your code as a script file.\n",
    "* Your data should be stored in an online repository (e.g., GitHub) and your code should retrieve your data from that online resource. You can read csv files from the Web in the same way that you read files from local drive.\n",
    "* Describe the dataset and variables. What do variables represent?\n"
   ]
  },
  {
   "cell_type": "markdown",
   "metadata": {},
   "source": [
    "For finding BlueBike travel data, we went to the BlueBikes website and downloaded previous data. The website, https://www.bluebikes.com/system-data, provided data as excel files. There were 9 files, each representing a month from September 2018 to May 2019. These files contained the daily averages for travel time between Ruggles Bike Station and Roxbury Crossing Bike Station, as well as Brigham Circle Bike Station and Ruggles Bike Station. We merged all the excel files into one and performed data wrangling to extract the information required for our project. We used the following variables from the dataset: start station name, end station name, duration, start station id, end station id. For our Uber Boston dataset, we pulled data provided by Uber on https://movement.uber.com/explore/boston/. These files were downloaded in sets of three months (Uber has a date capacity set for downloads), and showed the average trip times between specified points in Boston. We were able to use the Uber website to specify pickup and dropoff locations, so we decided on taking trip times between three points in Mission Hill and two points around Northeastern’s campus. The dataset included variables such as origin name, destination name, date range, mean travel time, and the upper/lower bound of the range for average travel time. Our MBTA data came from: https://www.mbta.com/schedules/Orange/line and https://www.mbta.com/schedules/Green/line. We used the PDF posted at every train stop as it included wait times and trip times. We were interested in only the trips between Ruggles Station (Northeastern) and Roxbury Crossing Station (Mission Hill), and Northeastern Station (Northeastern) and Brigham Circle Station (Mission Hill). Based on the average wait time, we created a frequency chart that explains the frequency of a train arriving. That frequency chart is the average of all wait times across a full week. We acquired our walking data by using the MapQuest API. We used the API to create a dictionary of walking times from different stations to different Uber pickup and drop off points.\n",
    "\n",
    "\n",
    "In acquiring our dataset for Uber Chicago, we downloaded provided by the City of Chicago at https://data.cityofchicago.org/Transportation/Transportation-Network-Providers-Trips/m6dm-c72p/data. This was a large CSV that contained over 100 million rows of data. Each row described the start time, end time, pickup location, dropoff location, trip duration, fare, tip, and if it was a shared trip or not (boolean). We performed data wrangling to extract information from September 2018 to May 2019 which returned a sample of 50 million entries. To further reduce the data so that calculations don’t take forever, we ran a random function to pull a smaller sample of 1 million entries from the larger sample pool."
   ]
  },
  {
   "cell_type": "markdown",
   "metadata": {
    "colab_type": "text",
    "id": "qBu9v-HN6ARK"
   },
   "source": [
    "### 2.2. Variables\n",
    "* If you are testing hypotheses, what are your IVs and DVs?\n",
    "* For your predictive models, what are your features and target variables?\n"
   ]
  },
  {
   "cell_type": "markdown",
   "metadata": {},
   "source": [
    "In our analysis of the Northeastern transportation problem, our independent variables are the various modes of transportation. Those include using BlueBikes, the MBTA Orange and Green lines, as well as Uber. The dependent variable is the total time spent traveling.\n",
    "\n",
    "For the Uber Chicago problem, we defined our features to be Trip Seconds, Trip Distance, Pickup and Dropoff Community, Fare, Additional Charges, Shared Trip Authorize (whether or not the user has pool trips on), Trips Pooled (whether or not if another passenger was in the ride), and Trip Start and End Day. Our Target was the amount tipped. Our dependent variable is the amount of tip given."
   ]
  },
  {
   "cell_type": "markdown",
   "metadata": {
    "colab_type": "text",
    "id": "6oa6QpNR6ARL"
   },
   "source": [
    "### 2.3. Data Analysis\n",
    "* Specifically describe your predictive model. What outcome variable are you going to predict from what feature variables?\n",
    "* Describe whether this is a supervised or unsupervised learning problem. Also identify the sub-category of the learning task (e.g. classification).\n",
    "* What machine learning algorithms are you going to use? Why?"
   ]
  },
  {
   "cell_type": "markdown",
   "metadata": {},
   "source": [
    "\n",
    "In order to achieve our objective of finding the most effective ways of reaching Northeastern’s campus from Mission Hill and vice versa, we had to create a set of baseline origins and destinations for traveling. As someone commuting wouldn’t walk to an Uber pickup location as they would to a train or bike station, we decided that our starting and ending locations would be from one of the Uber routes between Northeastern and Mission Hill. We’re going under the assumption that each Uber was called from someone’s home to campus or from campus to someone’s home. So, in finding the optimal mode of transportation between BlueBikes and the MBTA, we will implement the MapQuest API to calculate the walking time from the Uber pickup location to the nearest station, whether it be BlueBikes or MBTA Green or Orange Line. We will use the average travel time from the BlueBikes data to calculate the duration to the closest BlueBike dock near the Uber destination, and then use the MapQuest API to calculate the walking time to the Uber destination. The same method applies for checking the duration of a trip using the MBTA, however we will use our frequency chart to accurately account for the time spent waiting for a train. So for Bluebikes the total average trip time consists of the time it took to walk from the Uber origin to a Bluebikes station, the time it takes to ride the bike to the destination, and the time it takes to walk from the Bluebikes station to the Uber destination dropoff. MBTA total average trip time is very similar, except that in addition to the time it takes to ride the train and walk to the station we also included the average time it takes for a person to wait for a train to arrive at the station.\n",
    "\n",
    "For our Uber Chicago Dataset, we defined our features to be Trip Seconds, Trip Distance, Pickup and Dropoff Community, Fare, Additional Charges, Shared Trip Authorize, Trips Pooled, and Trip Start and End Day. Our Target was the amount tipped. We will split into training and test data and create the following models Linear Regression, Ridge, Lasso, KNN Regressor and SVR. Using percentage split we will then determine our best model and optimize / test.\n"
   ]
  },
  {
   "cell_type": "markdown",
   "metadata": {
    "colab_type": "text",
    "id": "ZC6qAG3F6ARL"
   },
   "source": [
    "<a id=\"3\"></a>\n",
    "<hr style=\"height:2px; border:none; color:black; background-color:black;\">"
   ]
  },
  {
   "cell_type": "markdown",
   "metadata": {
    "colab_type": "text",
    "id": "LwYXVK-O6ARL"
   },
   "source": [
    "## 3. RESULTS"
   ]
  },
  {
   "cell_type": "markdown",
   "metadata": {
    "colab_type": "text",
    "id": "gfTrIL8-6ARM"
   },
   "source": [
    "### 3.1. Data Wrangling\n",
    "* Perform simple data cleaning (delete extra columns, deal with NA values, etc.)\n",
    "* Perform data wrangling to extract your features and target values (e.g., grouping your dataframe by columns, applying functions to format dataframes, etc.)\n",
    "* Preprocess your variables (e.g., scaling/transforming feature variables to normalize them)\n",
    "* Feature extraction (dummy variables, new features from existing features, etc.)\n",
    "* Use one feature selection technique to select a subset of your original features\n"
   ]
  },
  {
   "cell_type": "code",
   "execution_count": null,
   "metadata": {},
   "outputs": [],
   "source": [
    "import pandas as pd\n",
    "import numpy as np\n",
    "import requests\n",
    "import glob \n",
    "import os\n",
    "import pprint\n",
    "import time\n",
    "from datetime import date\n",
    "import calendar\n",
    "from sklearn.linear_model import LinearRegression\n",
    "from sklearn.linear_model import Ridge\n",
    "from sklearn.linear_model import Lasso\n",
    "from sklearn.neighbors import KNeighborsRegressor\n",
    "from sklearn.svm import SVR\n",
    "from sklearn.model_selection import train_test_split\n",
    "from sklearn.metrics import r2_score\n",
    "from sklearn.metrics import mean_squared_error\n",
    "from sklearn.model_selection import train_test_split\n",
    "from sklearn.preprocessing import MinMaxScaler\n",
    "from sklearn.feature_selection import RFE\n",
    "from sklearn.tree import DecisionTreeRegressor"
   ]
  },
  {
   "cell_type": "code",
   "execution_count": 1,
   "metadata": {},
   "outputs": [],
   "source": [
    "data_sets = {}\n",
    "git_url = './data_sets/' #'https://media.githubusercontent.com/media/kchu14/Northeastern-Transportation-Analysis/master/data_sets/'\n",
    "data_sets['bluebikes_data_MH_NEU'] = pd.read_csv(f'{git_url}Bluebikes_Data_MH_NEU.csv')\n",
    "data_sets['bluebikes_data_NEU_MH'] = pd.read_csv(f'{git_url}Bluebikes_Data_NEU_MH.csv')\n",
    "#data_sets['uber_ids'] = pd.read_csv(f'{git_url}Uber_Data_IDs.csv')\n",
    "data_sets['uber_mh_neu'] = pd.read_csv(f'{git_url}Uber_Data_MH_NEU.csv')\n",
    "data_sets['uber_neu_mh'] = pd.read_csv(f'{git_url}Uber_Data_NEU_MH.csv')\n",
    "data_sets['uber_neu_mh_monthly'] = pd.read_csv(f'{git_url}Uber_Data_NEU_MH_Monthly.csv')\n",
    "data_sets['uber_mh_neu_monthly'] = pd.read_csv(f'{git_url}Uber_Data_MH_NEU_Monthly.csv')\n",
    "data_sets['uber_tips'] = pd.read_csv(f'{git_url}Uber_Data_Tips.csv')\n",
    "data_sets['MBTA'] = pd.read_csv(f'{git_url}MBTA_Data.csv')\n"
   ]
  },
  {
   "cell_type": "raw",
   "metadata": {},
   "source": [
    "### This was the code we used to clean the Bluebikes dataset and combine them into one csv. It won't run because we didn't upload all the original Bluebikes excel files. Instead we uploaded the result of this code\n",
    "\n",
    "path = r'C:\\Users\\dbk29\\Downloads' # use your path\n",
    "all_files = glob.glob(os.path.join(path, \"*.csv\"))\n",
    "\n",
    "df_from_each_file = (pd.read_csv(f, \n",
    "                                 usecols=['tripduration','start station id','start station name','start station latitude','start station longitude', 'end station id','end station name','end station latitude','end station longitude'] ) for f in all_files)\n",
    "concatenated_df   = pd.concat(df_from_each_file, ignore_index=True)\n",
    "concatenated_df.set_index(['start station id','end station id'], inplace=True)\n",
    "roxbury_data = concatenated_df.xs([27, 12], level = ['start station id', 'end station id'])\n",
    "brigham_data = concatenated_df.xs([30, 12], level = ['start station id', 'end station id'])\n",
    "blue_bikes = pd.concat([roxbury_data, brigham_data])\n",
    "blue_bikes.reset_index(inplace=True)\n",
    "blue_bikes.to_csv(\"blue_bikes_data.csv\", index=False)"
   ]
  },
  {
   "cell_type": "code",
   "execution_count": 3,
   "metadata": {},
   "outputs": [
    {
     "data": {
      "text/html": [
       "<div>\n",
       "<style scoped>\n",
       "    .dataframe tbody tr th:only-of-type {\n",
       "        vertical-align: middle;\n",
       "    }\n",
       "\n",
       "    .dataframe tbody tr th {\n",
       "        vertical-align: top;\n",
       "    }\n",
       "\n",
       "    .dataframe thead th {\n",
       "        text-align: right;\n",
       "    }\n",
       "</style>\n",
       "<table border=\"1\" class=\"dataframe\">\n",
       "  <thead>\n",
       "    <tr style=\"text-align: right;\">\n",
       "      <th></th>\n",
       "      <th>Trip Seconds</th>\n",
       "      <th>Trip Miles</th>\n",
       "      <th>Pickup Community Area</th>\n",
       "      <th>Dropoff Community Area</th>\n",
       "      <th>Fare</th>\n",
       "      <th>target</th>\n",
       "      <th>Additional Charges</th>\n",
       "      <th>Shared Trip Authorized</th>\n",
       "      <th>Trips Pooled</th>\n",
       "      <th>Trip Start Day</th>\n",
       "      <th>Trip End Day</th>\n",
       "    </tr>\n",
       "  </thead>\n",
       "  <tbody>\n",
       "    <tr>\n",
       "      <td>0</td>\n",
       "      <td>248</td>\n",
       "      <td>0.746336</td>\n",
       "      <td>3.0</td>\n",
       "      <td>3.0</td>\n",
       "      <td>2.5</td>\n",
       "      <td>0.0</td>\n",
       "      <td>2.55</td>\n",
       "      <td>False</td>\n",
       "      <td>1</td>\n",
       "      <td>1</td>\n",
       "      <td>1</td>\n",
       "    </tr>\n",
       "    <tr>\n",
       "      <td>1</td>\n",
       "      <td>900</td>\n",
       "      <td>5.371249</td>\n",
       "      <td>8.0</td>\n",
       "      <td>22.0</td>\n",
       "      <td>5.0</td>\n",
       "      <td>0.0</td>\n",
       "      <td>0.72</td>\n",
       "      <td>True</td>\n",
       "      <td>2</td>\n",
       "      <td>3</td>\n",
       "      <td>3</td>\n",
       "    </tr>\n",
       "    <tr>\n",
       "      <td>2</td>\n",
       "      <td>1009</td>\n",
       "      <td>5.669338</td>\n",
       "      <td>33.0</td>\n",
       "      <td>24.0</td>\n",
       "      <td>5.0</td>\n",
       "      <td>0.0</td>\n",
       "      <td>2.55</td>\n",
       "      <td>True</td>\n",
       "      <td>4</td>\n",
       "      <td>1</td>\n",
       "      <td>1</td>\n",
       "    </tr>\n",
       "    <tr>\n",
       "      <td>5</td>\n",
       "      <td>1753</td>\n",
       "      <td>8.373755</td>\n",
       "      <td>24.0</td>\n",
       "      <td>77.0</td>\n",
       "      <td>15.0</td>\n",
       "      <td>1.0</td>\n",
       "      <td>0.00</td>\n",
       "      <td>True</td>\n",
       "      <td>2</td>\n",
       "      <td>5</td>\n",
       "      <td>5</td>\n",
       "    </tr>\n",
       "    <tr>\n",
       "      <td>7</td>\n",
       "      <td>2331</td>\n",
       "      <td>8.767741</td>\n",
       "      <td>23.0</td>\n",
       "      <td>4.0</td>\n",
       "      <td>12.5</td>\n",
       "      <td>1.0</td>\n",
       "      <td>0.00</td>\n",
       "      <td>True</td>\n",
       "      <td>2</td>\n",
       "      <td>3</td>\n",
       "      <td>3</td>\n",
       "    </tr>\n",
       "  </tbody>\n",
       "</table>\n",
       "</div>"
      ],
      "text/plain": [
       "  Trip Seconds  Trip Miles  Pickup Community Area  Dropoff Community Area  \\\n",
       "0          248    0.746336                    3.0                     3.0   \n",
       "1          900    5.371249                    8.0                    22.0   \n",
       "2         1009    5.669338                   33.0                    24.0   \n",
       "5         1753    8.373755                   24.0                    77.0   \n",
       "7         2331    8.767741                   23.0                     4.0   \n",
       "\n",
       "   Fare  target  Additional Charges  Shared Trip Authorized  Trips Pooled  \\\n",
       "0   2.5     0.0                2.55                   False             1   \n",
       "1   5.0     0.0                0.72                    True             2   \n",
       "2   5.0     0.0                2.55                    True             4   \n",
       "5  15.0     1.0                0.00                    True             2   \n",
       "7  12.5     1.0                0.00                    True             2   \n",
       "\n",
       "   Trip Start Day  Trip End Day  \n",
       "0               1             1  \n",
       "1               3             3  \n",
       "2               1             1  \n",
       "5               5             5  \n",
       "7               3             3  "
      ]
     },
     "execution_count": 3,
     "metadata": {},
     "output_type": "execute_result"
    }
   ],
   "source": [
    "def change_date_weekday(date_string):\n",
    "    date_ar = date_string.split('/')\n",
    "    return date(int(date_ar[2].split(' ')[0]), int(date_ar[0]), int(date_ar[1])).weekday()\n",
    "\n",
    "uber_tips_ds = data_sets['uber_tips'].rename(columns={'Tip': 'target'}).drop(['Pickup Centroid Location', 'Dropoff Centroid Location', 'Trip Total'], axis=1).dropna()\n",
    "uber_tips_ds['Trip Start Day'] = uber_tips_ds['Trip Start Timestamp'].apply(change_date_weekday)\n",
    "uber_tips_ds['Trip End Day'] = uber_tips_ds['Trip End Timestamp'].apply(change_date_weekday)\n",
    "uber_tips_ds['Trip Seconds'] = uber_tips_ds['Trip Seconds'].apply(lambda x:  x.replace(',', '') if isinstance(x, str) else x)\n",
    "\n",
    "\n",
    "uber_tips_ds = uber_tips_ds.drop(['Trip Start Timestamp', 'Trip End Timestamp'], axis=1)\n",
    "\n",
    "uber_tips_ds.head()"
   ]
  },
  {
   "cell_type": "markdown",
   "metadata": {
    "colab_type": "text",
    "id": "Sl0nr0LY6ARM"
   },
   "source": [
    "### 3.2. Data Exploration\n",
    "* Generate appropriate data visualizations for your key variables identified in the previous section\n",
    "* You should have at least three visualizations (and at least two different visualization types)\n",
    "* For each visualization provide an explanation regarding the variables involved and an interpretation of the graph.\n",
    "* If you are using Plotly, insert your visualizations as images as well (upload the graph images to an online source, e.g. github, and link those in Jupyter Notebook)\n"
   ]
  },
  {
   "cell_type": "code",
   "execution_count": 4,
   "metadata": {},
   "outputs": [
    {
     "data": {
      "text/plain": [
       "{'805 Columbus Ave, Boston, MA': ('360 Huntington Ave, Boston, MA',\n",
       "  '835 Colombus Avenue, Boston, MA 02120',\n",
       "  '835 Colombus Avenue, Boston, MA 02120'),\n",
       " '100 Saint Alphonsus Street, Mission Hill, Boston': ('690 Huntington Avenue, Boston, MA 02115',\n",
       "  '1400 Tremont St, Boston, MA 02120',\n",
       "  '15 Francis Street, Boston, MA 02115'),\n",
       " '100 Fisher Avenue, Mission Hill, Boston': ('690 Huntington Avenue, Boston, MA 02115',\n",
       "  '1400 Tremont St, Boston, MA 02120',\n",
       "  '1400 Tremont St, Boston, MA 02120'),\n",
       " '47 McGreevey Way, Mission Hill, Boston': ('690 Huntington Avenue, Boston, MA 02115',\n",
       "  '1400 Tremont St, Boston, MA 02120',\n",
       "  '15 Francis Street, Boston, MA 02115'),\n",
       " '1534 Tremont St, Roxbury Crossing, MA': ('690 Huntington Avenue, Boston, MA 02115',\n",
       "  '1400 Tremont St, Boston, MA 02120',\n",
       "  '1400 Tremont St, Boston, MA 02120'),\n",
       " '40 Leon Street, Fenway/Kenmore, Boston': ('360 Huntington Ave, Boston, MA',\n",
       "  '835 Colombus Avenue, Boston, MA 02120',\n",
       "  '835 Colombus Avenue, Boston, MA 02120'),\n",
       " '360 Huntington Ave, Boston, MA': ('360 Huntington Ave, Boston, MA',\n",
       "  '835 Colombus Avenue, Boston, MA 02120',\n",
       "  '835 Colombus Avenue, Boston, MA 02120')}"
      ]
     },
     "execution_count": 4,
     "metadata": {},
     "output_type": "execute_result"
    }
   ],
   "source": [
    "uber_stop_to_closest_station = {}\n",
    "# Map of Uber stops to closest T and Bluebikes stations\n",
    "# (green line, orange line, bikes)\n",
    "brigham_t = '690 Huntington Avenue, Boston, MA 02115'\n",
    "brigham_bike = '15 Francis Street, Boston, MA 02115'\n",
    "ruggles_t = '835 Colombus Avenue, Boston, MA 02120'\n",
    "ruggles_bike = '835 Colombus Avenue, Boston, MA 02120'\n",
    "roxbury_t = '1400 Tremont St, Boston, MA 02120'\n",
    "roxbury_bike = '1400 Tremont St, Boston, MA 02120'\n",
    "northeastern_t = '360 Huntington Ave, Boston, MA'\n",
    "uber_stop_to_closest_station['805 Columbus Ave, Boston, MA'] = (northeastern_t, ruggles_t, ruggles_bike)\n",
    "uber_stop_to_closest_station['100 Saint Alphonsus Street, Mission Hill, Boston'] = (brigham_t, roxbury_t, brigham_bike)\n",
    "uber_stop_to_closest_station['100 Fisher Avenue, Mission Hill, Boston'] = (brigham_t, roxbury_t, roxbury_bike)\n",
    "uber_stop_to_closest_station['47 McGreevey Way, Mission Hill, Boston'] = (brigham_t, roxbury_t, brigham_bike)\n",
    "uber_stop_to_closest_station['1534 Tremont St, Roxbury Crossing, MA'] = (brigham_t, roxbury_t, roxbury_bike) \n",
    "uber_stop_to_closest_station['40 Leon Street, Fenway/Kenmore, Boston'] = (northeastern_t, ruggles_t, ruggles_bike)\n",
    "uber_stop_to_closest_station['360 Huntington Ave, Boston, MA'] = (northeastern_t, ruggles_t, ruggles_bike)\n",
    "\n",
    "uber_stop_to_closest_station"
   ]
  },
  {
   "cell_type": "code",
   "execution_count": 5,
   "metadata": {},
   "outputs": [
    {
     "data": {
      "text/plain": [
       "{'805 Columbus Ave, Boston, MA': ('00:09:26', '00:02:17', '00:02:17'),\n",
       " '100 Saint Alphonsus Street, Mission Hill, Boston': ('00:05:40',\n",
       "  '00:08:22',\n",
       "  '00:07:29'),\n",
       " '100 Fisher Avenue, Mission Hill, Boston': ('00:15:20',\n",
       "  '00:16:16',\n",
       "  '00:16:16'),\n",
       " '47 McGreevey Way, Mission Hill, Boston': ('00:07:08',\n",
       "  '00:08:47',\n",
       "  '00:11:25'),\n",
       " '1534 Tremont St, Roxbury Crossing, MA': ('00:06:16', '00:06:01', '00:06:01'),\n",
       " '40 Leon Street, Fenway/Kenmore, Boston': ('00:07:00',\n",
       "  '00:07:17',\n",
       "  '00:07:17'),\n",
       " '360 Huntington Ave, Boston, MA': ('00:00:00', '00:08:02', '00:08:02')}"
      ]
     },
     "execution_count": 5,
     "metadata": {},
     "output_type": "execute_result"
    }
   ],
   "source": [
    "map_quest_api_url = 'http://www.mapquestapi.com/directions/v2/route'\n",
    "api_key = 'siAvMEuUie853rP4T1v1Vuyfu3ndxR89'\n",
    "walking_times = {}\n",
    "\n",
    "for key, value in uber_stop_to_closest_station.items():\n",
    "    PARAMS = {'key':api_key,'routeType':'pedestrian', 'from': key, 'to': value[0]} \n",
    "    r = requests.get(url = map_quest_api_url, params = PARAMS) \n",
    "    data1 = r.json() \n",
    "    time.sleep(.5)\n",
    "    PARAMS = {'key':api_key,'routeType':'pedestrian', 'from': key, 'to': value[1]} \n",
    "    r = requests.get(url = map_quest_api_url, params = PARAMS) \n",
    "    data2 = r.json()\n",
    "    PARAMS = {'key':api_key,'routeType':'pedestrian', 'from': key, 'to': value[2]} \n",
    "    r = requests.get(url = map_quest_api_url, params = PARAMS) \n",
    "    data3 = r.json()\n",
    "     \n",
    "#     print(f'Time it takes to walk from {key} to {value[0]} is {data1[\"route\"][\"formattedTime\"]}')\n",
    "#     print(f'Time it takes to walk from {key} to {value[1]} is {data2[\"route\"][\"formattedTime\"]}')\n",
    "    walking_times[key] = (data1[\"route\"][\"formattedTime\"],  data2[\"route\"][\"formattedTime\"], data3[\"route\"][\"formattedTime\"])\n",
    "    \n",
    "walking_times"
   ]
  },
  {
   "cell_type": "code",
   "execution_count": 6,
   "metadata": {},
   "outputs": [
    {
     "data": {
      "text/plain": [
       "{'835 Colombus Avenue, Boston, MA 02120 - 1400 Tremont St, Boston, MA 02120': 313.9508408796895,\n",
       " '835 Colombus Avenue, Boston, MA 02120 - 15 Francis Street, Boston, MA 02115': 516.3309352517986,\n",
       " '1400 Tremont St, Boston, MA 02120 - 835 Colombus Avenue, Boston, MA 02120': 342.1673346693387,\n",
       " '15 Francis Street, Boston, MA 02115 - 835 Colombus Avenue, Boston, MA 02120': 660.5757575757576}"
      ]
     },
     "execution_count": 6,
     "metadata": {},
     "output_type": "execute_result"
    }
   ],
   "source": [
    "# Bluebikes average times\n",
    "\n",
    "# get the average time from station to station\n",
    "bluebike_avg_times = {}\n",
    "group_by_start_NEU_MH = pd.DataFrame(data_sets['bluebikes_data_NEU_MH'].groupby(['start station name', 'end station name']).mean()['tripduration'])\n",
    "group_by_start_MH_NEU = pd.DataFrame(data_sets['bluebikes_data_MH_NEU'].groupby(['start station name', 'end station name']).mean()['tripduration'])\n",
    "# From - To\n",
    "\n",
    "\n",
    "bluebike_avg_times[' - '.join(group_by_start_NEU_MH.index[0])] = group_by_start_NEU_MH.iloc[0]['tripduration']\n",
    "bluebike_avg_times[' - '.join(group_by_start_NEU_MH.index[1])] = group_by_start_NEU_MH.iloc[1]['tripduration']\n",
    "bluebike_avg_times[' - '.join(group_by_start_MH_NEU.index[0])] = group_by_start_MH_NEU.iloc[0]['tripduration']\n",
    "bluebike_avg_times[' - '.join(group_by_start_MH_NEU.index[1])] = group_by_start_MH_NEU.iloc[1]['tripduration']\n",
    "\n",
    "bluebike_avg_times\n"
   ]
  },
  {
   "cell_type": "code",
   "execution_count": 7,
   "metadata": {},
   "outputs": [
    {
     "data": {
      "text/plain": [
       "{'690 Huntington Avenue, Boston, MA 02115 - 360 Huntington Ave, Boston, MA': 867.6,\n",
       " '360 Huntington Ave, Boston, MA - 690 Huntington Avenue, Boston, MA 02115': 927.6,\n",
       " '835 Colombus Avenue, Boston, MA 02120 - 1400 Tremont St, Boston, MA 02120': 646.8,\n",
       " '1400 Tremont St, Boston, MA 02120 - 835 Colombus Avenue, Boston, MA 02120': 646.8}"
      ]
     },
     "execution_count": 7,
     "metadata": {},
     "output_type": "execute_result"
    }
   ],
   "source": [
    "# MBTA average times\n",
    "\n",
    "# get the average time from station to station\n",
    "data_sets['MBTA']\n",
    "MBTA_avg_times = {}\n",
    "data_sets['MBTA']['Total Time'] = data_sets['MBTA']['Frequency'] + data_sets['MBTA']['Travel Time']\n",
    "for i in range(4):\n",
    "    MBTA_avg_times[f'{data_sets[\"MBTA\"].iloc[i][\"Start Station\"]} - {data_sets[\"MBTA\"].iloc[i][\"End Station\"]}'] = data_sets[\"MBTA\"].iloc[i][\"Total Time\"]\n",
    "                   \n",
    "MBTA_avg_times                   \n",
    "               "
   ]
  },
  {
   "cell_type": "code",
   "execution_count": 8,
   "metadata": {},
   "outputs": [],
   "source": [
    "# Total times\n",
    "neu_mh = data_sets['uber_neu_mh_monthly'].copy().drop(['Origin Movement ID', 'Destination Movement ID', 'Range - Lower Bound Travel Time (Seconds)', 'Range - Upper Bound Travel Time (Seconds)'], axis=1)\n",
    "mh_neu = data_sets['uber_mh_neu_monthly'].copy().drop(['Origin Movement ID', 'Destination Movement ID', 'Range - Lower Bound Travel Time (Seconds)', 'Range - Upper Bound Travel Time (Seconds)'], axis=1)\n",
    "\n",
    "neu_mh.rename(columns={'Mean Travel Time (Seconds)': 'Uber Mean Travel Time'}, inplace = True)\n",
    "mh_neu.rename(columns={'Mean Travel Time (Seconds)': 'Uber Mean Travel Time'}, inplace = True)"
   ]
  },
  {
   "cell_type": "code",
   "execution_count": 9,
   "metadata": {},
   "outputs": [
    {
     "data": {
      "text/html": [
       "<div>\n",
       "<style scoped>\n",
       "    .dataframe tbody tr th:only-of-type {\n",
       "        vertical-align: middle;\n",
       "    }\n",
       "\n",
       "    .dataframe tbody tr th {\n",
       "        vertical-align: top;\n",
       "    }\n",
       "\n",
       "    .dataframe thead th {\n",
       "        text-align: right;\n",
       "    }\n",
       "</style>\n",
       "<table border=\"1\" class=\"dataframe\">\n",
       "  <thead>\n",
       "    <tr style=\"text-align: right;\">\n",
       "      <th></th>\n",
       "      <th>Origin Display Name</th>\n",
       "      <th>Destination Display Name</th>\n",
       "      <th>Date Range</th>\n",
       "      <th>Uber Mean Travel Time</th>\n",
       "    </tr>\n",
       "  </thead>\n",
       "  <tbody>\n",
       "    <tr>\n",
       "      <td>0</td>\n",
       "      <td>805 Columbus Ave, Boston, MA</td>\n",
       "      <td>100 Saint Alphonsus Street, Mission Hill, Boston</td>\n",
       "      <td>9/11/2018 - 11/10/2018, Every day, Daily Average</td>\n",
       "      <td>296</td>\n",
       "    </tr>\n",
       "    <tr>\n",
       "      <td>1</td>\n",
       "      <td>805 Columbus Ave, Boston, MA</td>\n",
       "      <td>100 Fisher Avenue, Mission Hill, Boston</td>\n",
       "      <td>9/11/2018 - 11/10/2018, Every day, Daily Average</td>\n",
       "      <td>444</td>\n",
       "    </tr>\n",
       "    <tr>\n",
       "      <td>2</td>\n",
       "      <td>805 Columbus Ave, Boston, MA</td>\n",
       "      <td>47 McGreevey Way, Mission Hill, Boston</td>\n",
       "      <td>9/11/2018 - 11/10/2018, Every day, Daily Average</td>\n",
       "      <td>207</td>\n",
       "    </tr>\n",
       "    <tr>\n",
       "      <td>3</td>\n",
       "      <td>360 Huntington Ave, Boston, MA</td>\n",
       "      <td>100 Saint Alphonsus Street, Mission Hill, Boston</td>\n",
       "      <td>9/11/2018 - 11/10/2018, Every day, Daily Average</td>\n",
       "      <td>305</td>\n",
       "    </tr>\n",
       "    <tr>\n",
       "      <td>4</td>\n",
       "      <td>360 Huntington Ave, Boston, MA</td>\n",
       "      <td>100 Fisher Avenue, Mission Hill, Boston</td>\n",
       "      <td>9/11/2018 - 11/10/2018, Every day, Daily Average</td>\n",
       "      <td>472</td>\n",
       "    </tr>\n",
       "  </tbody>\n",
       "</table>\n",
       "</div>"
      ],
      "text/plain": [
       "              Origin Display Name  \\\n",
       "0    805 Columbus Ave, Boston, MA   \n",
       "1    805 Columbus Ave, Boston, MA   \n",
       "2    805 Columbus Ave, Boston, MA   \n",
       "3  360 Huntington Ave, Boston, MA   \n",
       "4  360 Huntington Ave, Boston, MA   \n",
       "\n",
       "                           Destination Display Name  \\\n",
       "0  100 Saint Alphonsus Street, Mission Hill, Boston   \n",
       "1           100 Fisher Avenue, Mission Hill, Boston   \n",
       "2            47 McGreevey Way, Mission Hill, Boston   \n",
       "3  100 Saint Alphonsus Street, Mission Hill, Boston   \n",
       "4           100 Fisher Avenue, Mission Hill, Boston   \n",
       "\n",
       "                                         Date Range  Uber Mean Travel Time  \n",
       "0  9/11/2018 - 11/10/2018, Every day, Daily Average                    296  \n",
       "1  9/11/2018 - 11/10/2018, Every day, Daily Average                    444  \n",
       "2  9/11/2018 - 11/10/2018, Every day, Daily Average                    207  \n",
       "3  9/11/2018 - 11/10/2018, Every day, Daily Average                    305  \n",
       "4  9/11/2018 - 11/10/2018, Every day, Daily Average                    472  "
      ]
     },
     "execution_count": 9,
     "metadata": {},
     "output_type": "execute_result"
    }
   ],
   "source": [
    "neu_mh.head()"
   ]
  },
  {
   "cell_type": "code",
   "execution_count": 21,
   "metadata": {},
   "outputs": [],
   "source": [
    "#calculating green and orange line mean travel time from northeastern to mission hill\n",
    "green_line_time_neu_mh = []\n",
    "orange_line_time_neu_mh = []\n",
    "for index, row in neu_mh.iterrows():\n",
    "    start_stop = row['Origin Display Name']\n",
    "    end_stop = row['Destination Display Name']\n",
    "    #finding the nearest green/orange line station from start and end uber destination\n",
    "    closest_green_mbta_start_station = uber_stop_to_closest_station[start_stop][0]\n",
    "    closest_green_mbta_end_station = uber_stop_to_closest_station[end_stop][0]\n",
    "    closest_orange_mbta_start_station = uber_stop_to_closest_station[start_stop][1]\n",
    "    closest_orange_mbta_end_station = uber_stop_to_closest_station[end_stop][1]\n",
    "    #finding the walking time to the nearest green/orange line from start and end uber destination\n",
    "    walking_from_start_green_line = walking_times[start_stop][0]\n",
    "    walking_from_end_green_line = walking_times[end_stop][0]\n",
    "    walking_from_start_orange_line = walking_times[start_stop][1]\n",
    "    walking_from_end_orange_line = walking_times[end_stop][1]\n",
    "    green_line = closest_green_mbta_start_station + \" - \" + closest_green_mbta_end_station\n",
    "    orange_line = closest_orange_mbta_start_station + \" - \" + closest_orange_mbta_end_station\n",
    "    #changing the format from datetime to seconds for calculations\n",
    "    walking_time_from_start_green_line = sum(x * int(t) for x, t in zip([3600, 60, 1], walking_from_start_green_line.split(\":\"))) \n",
    "    walking_time_from_end_green_line = sum(x * int(t) for x, t in zip([3600, 60, 1], walking_from_end_green_line.split(\":\")))\n",
    "    walking_time_from_start_orange_line = sum(x * int(t) for x, t in zip([3600, 60, 1], walking_from_start_orange_line.split(\":\"))) \n",
    "    walking_time_from_end_orange_line = sum(x * int(t) for x, t in zip([3600, 60, 1], walking_from_end_orange_line.split(\":\")))\n",
    "    #retreiving the travel time for green and orange line\n",
    "    green_line_travel_time = MBTA_avg_times[green_line]\n",
    "    orange_line_travel_time = MBTA_avg_times[orange_line]\n",
    "    #calculating the total mean travel time for green/orange line\n",
    "    total_time_green_line = float(green_line_travel_time) + float(walking_time_from_start_green_line) + float(walking_time_from_end_green_line)\n",
    "    green_line_time_neu_mh.append(total_time_green_line)\n",
    "    total_time_orange_line = float(orange_line_travel_time) + float(walking_time_from_start_orange_line) + float(walking_time_from_end_orange_line)\n",
    "    orange_line_time_neu_mh.append(total_time_orange_line)\n",
    "\n",
    "#appending the green and orange line mean travel time to the neu_mh dataframe\n",
    "neu_mh[\"Green Line Mean Travel Time\"] = green_line_time_neu_mh\n",
    "neu_mh[\"Orange Line Mean Travel Time\"] = orange_line_time_neu_mh\n",
    "\n",
    "#calculating blue bikes mean travel time from northeastern to mission hill\n",
    "bluebike_time_neu_mh = []\n",
    "for index, row in neu_mh.iterrows():\n",
    "    start_stop = row['Origin Display Name']\n",
    "    end_stop = row['Destination Display Name']\n",
    "    walking_from_start = walking_times[start_stop][2]\n",
    "    walking_from_end = walking_times[end_stop][2]\n",
    "    #finding the nearest blue bike station from start and end uber destination\n",
    "    closest_bike_start_station = uber_stop_to_closest_station[start_stop][2]\n",
    "    closest_bike_end_station = uber_stop_to_closest_station[end_stop][2]\n",
    "    string = closest_bike_start_station + \" - \" + closest_bike_end_station\n",
    "    travel_time = bluebike_avg_times[string]\n",
    "    #changing the format from datetime to seconds for calculations\n",
    "    walking_time_from_start = sum(x * int(t) for x, t in zip([3600, 60, 1], walking_from_start.split(\":\"))) \n",
    "    walking_time_from_end = sum(x * int(t) for x, t in zip([3600, 60, 1], walking_from_end.split(\":\")))\n",
    "    #calculating the toal mean travel time for blue bikes\n",
    "    total_time = float(travel_time) + float(walking_time_from_start) + float(walking_time_from_end)\n",
    "    bluebike_time_neu_mh.append(total_time)\n",
    "#appending the blue bikes mean travel time to the neu_mh dataframe\n",
    "neu_mh['Blue Bike Mean Travel Time'] = bluebike_time_neu_mh"
   ]
  },
  {
   "cell_type": "code",
   "execution_count": 22,
   "metadata": {},
   "outputs": [
    {
     "data": {
      "text/html": [
       "<div>\n",
       "<style scoped>\n",
       "    .dataframe tbody tr th:only-of-type {\n",
       "        vertical-align: middle;\n",
       "    }\n",
       "\n",
       "    .dataframe tbody tr th {\n",
       "        vertical-align: top;\n",
       "    }\n",
       "\n",
       "    .dataframe thead th {\n",
       "        text-align: right;\n",
       "    }\n",
       "</style>\n",
       "<table border=\"1\" class=\"dataframe\">\n",
       "  <thead>\n",
       "    <tr style=\"text-align: right;\">\n",
       "      <th></th>\n",
       "      <th></th>\n",
       "      <th>Uber Mean Travel Time</th>\n",
       "      <th>Green Line Mean Travel Time</th>\n",
       "      <th>Orange Line Mean Travel Time</th>\n",
       "      <th>Blue Bike Average Time</th>\n",
       "      <th>Blue Bike Mean Time</th>\n",
       "      <th>Blue Bike Mean Travel Time</th>\n",
       "    </tr>\n",
       "    <tr>\n",
       "      <th>Origin Display Name</th>\n",
       "      <th>Destination Display Name</th>\n",
       "      <th></th>\n",
       "      <th></th>\n",
       "      <th></th>\n",
       "      <th></th>\n",
       "      <th></th>\n",
       "      <th></th>\n",
       "    </tr>\n",
       "  </thead>\n",
       "  <tbody>\n",
       "    <tr>\n",
       "      <td rowspan=\"3\" valign=\"top\">360 Huntington Ave, Boston, MA</td>\n",
       "      <td>100 Fisher Avenue, Mission Hill, Boston</td>\n",
       "      <td>486.000000</td>\n",
       "      <td>1847.6</td>\n",
       "      <td>2104.8</td>\n",
       "      <td>1771.950841</td>\n",
       "      <td>1771.950841</td>\n",
       "      <td>1771.950841</td>\n",
       "    </tr>\n",
       "    <tr>\n",
       "      <td>100 Saint Alphonsus Street, Mission Hill, Boston</td>\n",
       "      <td>304.666667</td>\n",
       "      <td>1267.6</td>\n",
       "      <td>1630.8</td>\n",
       "      <td>1447.330935</td>\n",
       "      <td>1447.330935</td>\n",
       "      <td>1447.330935</td>\n",
       "    </tr>\n",
       "    <tr>\n",
       "      <td>47 McGreevey Way, Mission Hill, Boston</td>\n",
       "      <td>197.666667</td>\n",
       "      <td>1355.6</td>\n",
       "      <td>1655.8</td>\n",
       "      <td>1683.330935</td>\n",
       "      <td>1683.330935</td>\n",
       "      <td>1683.330935</td>\n",
       "    </tr>\n",
       "    <tr>\n",
       "      <td rowspan=\"3\" valign=\"top\">805 Columbus Ave, Boston, MA</td>\n",
       "      <td>100 Fisher Avenue, Mission Hill, Boston</td>\n",
       "      <td>451.000000</td>\n",
       "      <td>2413.6</td>\n",
       "      <td>1759.8</td>\n",
       "      <td>1426.950841</td>\n",
       "      <td>1426.950841</td>\n",
       "      <td>1426.950841</td>\n",
       "    </tr>\n",
       "    <tr>\n",
       "      <td>100 Saint Alphonsus Street, Mission Hill, Boston</td>\n",
       "      <td>294.333333</td>\n",
       "      <td>1833.6</td>\n",
       "      <td>1285.8</td>\n",
       "      <td>1102.330935</td>\n",
       "      <td>1102.330935</td>\n",
       "      <td>1102.330935</td>\n",
       "    </tr>\n",
       "    <tr>\n",
       "      <td>47 McGreevey Way, Mission Hill, Boston</td>\n",
       "      <td>204.666667</td>\n",
       "      <td>1921.6</td>\n",
       "      <td>1310.8</td>\n",
       "      <td>1338.330935</td>\n",
       "      <td>1338.330935</td>\n",
       "      <td>1338.330935</td>\n",
       "    </tr>\n",
       "  </tbody>\n",
       "</table>\n",
       "</div>"
      ],
      "text/plain": [
       "                                                                                 Uber Mean Travel Time  \\\n",
       "Origin Display Name            Destination Display Name                                                  \n",
       "360 Huntington Ave, Boston, MA 100 Fisher Avenue, Mission Hill, Boston                      486.000000   \n",
       "                               100 Saint Alphonsus Street, Mission Hill, Boston             304.666667   \n",
       "                               47 McGreevey Way, Mission Hill, Boston                       197.666667   \n",
       "805 Columbus Ave, Boston, MA   100 Fisher Avenue, Mission Hill, Boston                      451.000000   \n",
       "                               100 Saint Alphonsus Street, Mission Hill, Boston             294.333333   \n",
       "                               47 McGreevey Way, Mission Hill, Boston                       204.666667   \n",
       "\n",
       "                                                                                 Green Line Mean Travel Time  \\\n",
       "Origin Display Name            Destination Display Name                                                        \n",
       "360 Huntington Ave, Boston, MA 100 Fisher Avenue, Mission Hill, Boston                                1847.6   \n",
       "                               100 Saint Alphonsus Street, Mission Hill, Boston                       1267.6   \n",
       "                               47 McGreevey Way, Mission Hill, Boston                                 1355.6   \n",
       "805 Columbus Ave, Boston, MA   100 Fisher Avenue, Mission Hill, Boston                                2413.6   \n",
       "                               100 Saint Alphonsus Street, Mission Hill, Boston                       1833.6   \n",
       "                               47 McGreevey Way, Mission Hill, Boston                                 1921.6   \n",
       "\n",
       "                                                                                 Orange Line Mean Travel Time  \\\n",
       "Origin Display Name            Destination Display Name                                                         \n",
       "360 Huntington Ave, Boston, MA 100 Fisher Avenue, Mission Hill, Boston                                 2104.8   \n",
       "                               100 Saint Alphonsus Street, Mission Hill, Boston                        1630.8   \n",
       "                               47 McGreevey Way, Mission Hill, Boston                                  1655.8   \n",
       "805 Columbus Ave, Boston, MA   100 Fisher Avenue, Mission Hill, Boston                                 1759.8   \n",
       "                               100 Saint Alphonsus Street, Mission Hill, Boston                        1285.8   \n",
       "                               47 McGreevey Way, Mission Hill, Boston                                  1310.8   \n",
       "\n",
       "                                                                                 Blue Bike Average Time  \\\n",
       "Origin Display Name            Destination Display Name                                                   \n",
       "360 Huntington Ave, Boston, MA 100 Fisher Avenue, Mission Hill, Boston                      1771.950841   \n",
       "                               100 Saint Alphonsus Street, Mission Hill, Boston             1447.330935   \n",
       "                               47 McGreevey Way, Mission Hill, Boston                       1683.330935   \n",
       "805 Columbus Ave, Boston, MA   100 Fisher Avenue, Mission Hill, Boston                      1426.950841   \n",
       "                               100 Saint Alphonsus Street, Mission Hill, Boston             1102.330935   \n",
       "                               47 McGreevey Way, Mission Hill, Boston                       1338.330935   \n",
       "\n",
       "                                                                                 Blue Bike Mean Time  \\\n",
       "Origin Display Name            Destination Display Name                                                \n",
       "360 Huntington Ave, Boston, MA 100 Fisher Avenue, Mission Hill, Boston                   1771.950841   \n",
       "                               100 Saint Alphonsus Street, Mission Hill, Boston          1447.330935   \n",
       "                               47 McGreevey Way, Mission Hill, Boston                    1683.330935   \n",
       "805 Columbus Ave, Boston, MA   100 Fisher Avenue, Mission Hill, Boston                   1426.950841   \n",
       "                               100 Saint Alphonsus Street, Mission Hill, Boston          1102.330935   \n",
       "                               47 McGreevey Way, Mission Hill, Boston                    1338.330935   \n",
       "\n",
       "                                                                                 Blue Bike Mean Travel Time  \n",
       "Origin Display Name            Destination Display Name                                                      \n",
       "360 Huntington Ave, Boston, MA 100 Fisher Avenue, Mission Hill, Boston                          1771.950841  \n",
       "                               100 Saint Alphonsus Street, Mission Hill, Boston                 1447.330935  \n",
       "                               47 McGreevey Way, Mission Hill, Boston                           1683.330935  \n",
       "805 Columbus Ave, Boston, MA   100 Fisher Avenue, Mission Hill, Boston                          1426.950841  \n",
       "                               100 Saint Alphonsus Street, Mission Hill, Boston                 1102.330935  \n",
       "                               47 McGreevey Way, Mission Hill, Boston                           1338.330935  "
      ]
     },
     "execution_count": 22,
     "metadata": {},
     "output_type": "execute_result"
    }
   ],
   "source": [
    "neu_mh.groupby(['Origin Display Name', 'Destination Display Name']).mean()"
   ]
  },
  {
   "cell_type": "code",
   "execution_count": 30,
   "metadata": {},
   "outputs": [],
   "source": [
    "#calculating green and orange line mean travel time from mission hill to northeastern\n",
    "green_line_time_mh_neu = []\n",
    "orange_line_time_mh_neu = []\n",
    "for index, row in mh_neu.iterrows():\n",
    "    start_stop = row['Origin Display Name']\n",
    "    end_stop = row['Destination Display Name']\n",
    "    #finding the nearest green/orange line station from start and end uber destination\n",
    "    closest_green_mbta_start_station = uber_stop_to_closest_station[start_stop][0]\n",
    "    closest_green_mbta_end_station = uber_stop_to_closest_station[end_stop][0]\n",
    "    closest_orange_mbta_start_station = uber_stop_to_closest_station[start_stop][1]\n",
    "    closest_orange_mbta_end_station = uber_stop_to_closest_station[end_stop][1]\n",
    "    #finding the walking time to the nearest green/orange line from start and end uber destination\n",
    "    walking_from_start_green_line = walking_times[start_stop][0]\n",
    "    walking_from_end_green_line = walking_times[end_stop][0]\n",
    "    walking_from_start_orange_line = walking_times[start_stop][1]\n",
    "    walking_from_end_orange_line = walking_times[end_stop][1]\n",
    "    green_line = closest_green_mbta_start_station + \" - \" + closest_green_mbta_end_station\n",
    "    orange_line = closest_orange_mbta_start_station + \" - \" + closest_orange_mbta_end_station\n",
    "    #changing the format from datetime to seconds for calculations\n",
    "    walking_time_from_start_green_line = sum(x * int(t) for x, t in zip([3600, 60, 1], walking_from_start_green_line.split(\":\"))) \n",
    "    walking_time_from_end_green_line = sum(x * int(t) for x, t in zip([3600, 60, 1], walking_from_end_green_line.split(\":\")))\n",
    "    walking_time_from_start_orange_line = sum(x * int(t) for x, t in zip([3600, 60, 1], walking_from_start_orange_line.split(\":\"))) \n",
    "    walking_time_from_end_orange_line = sum(x * int(t) for x, t in zip([3600, 60, 1], walking_from_end_orange_line.split(\":\")))\n",
    "    #retreiving the travel time for green and orange line\n",
    "    green_line_travel_time = MBTA_avg_times[green_line]\n",
    "    orange_line_travel_time = MBTA_avg_times[orange_line]\n",
    "    #calculating the total mean travel time for green/orange line\n",
    "    total_time_green_line = float(green_line_travel_time) + float(walking_time_from_start_green_line) + float(walking_time_from_end_green_line)\n",
    "    green_line_time_mh_neu.append(total_time_green_line)\n",
    "    total_time_orange_line = float(orange_line_travel_time) + float(walking_time_from_start_orange_line) + float(walking_time_from_end_orange_line)\n",
    "    orange_line_time_mh_neu.append(total_time_orange_line)\n",
    "\n",
    "#appending the green and orange line mean travel time to the mh_neu dataframe\n",
    "mh_neu[\"Green Line Mean Travel Time\"] = green_line_time_mh_neu\n",
    "mh_neu[\"Orange Line Mean Travel Time\"] = orange_line_time_mh_neu\n",
    "\n",
    "#calculating blue bikes mean travel time from mission hill to northeastern\n",
    "bluebike_time_mh_neu = []\n",
    "for index, row in mh_neu.iterrows():\n",
    "    start_stop = row['Origin Display Name']\n",
    "    end_stop = row['Destination Display Name']\n",
    "    walking_from_start = walking_times[start_stop][1]\n",
    "    walking_from_end = walking_times[end_stop][1]\n",
    "    #finding the nearest  blue bike station from start and end uber destination\n",
    "    closest_bike_start_station = uber_stop_to_closest_station[start_stop][1]\n",
    "    closest_bike_end_station = uber_stop_to_closest_station[end_stop][1]\n",
    "    string = closest_bike_start_station + \" - \" + closest_bike_end_station\n",
    "    travel_time = bluebike_avg_times[string]\n",
    "    #changing the format from datetime to seconds for calculations\n",
    "    walking_time_from_start = sum(x * int(t) for x, t in zip([3600, 60, 1], walking_from_start.split(\":\"))) \n",
    "    walking_time_from_end = sum(x * int(t) for x, t in zip([3600, 60, 1], walking_from_end.split(\":\")))\n",
    "    #calculating the toal mean travel time for blue bikes\n",
    "    total_time = float(travel_time) + float(walking_time_from_start) + float(walking_time_from_end)\n",
    "    bluebike_time_mh_neu.append(total_time)\n",
    "    \n",
    "#appending the blue bikes mean travel time to the mh_neu dataframe\n",
    "mh_neu['Blue Bike Mean Travel Time'] = bluebike_time_mh_neu"
   ]
  },
  {
   "cell_type": "code",
   "execution_count": 31,
   "metadata": {},
   "outputs": [
    {
     "data": {
      "text/html": [
       "<div>\n",
       "<style scoped>\n",
       "    .dataframe tbody tr th:only-of-type {\n",
       "        vertical-align: middle;\n",
       "    }\n",
       "\n",
       "    .dataframe tbody tr th {\n",
       "        vertical-align: top;\n",
       "    }\n",
       "\n",
       "    .dataframe thead th {\n",
       "        text-align: right;\n",
       "    }\n",
       "</style>\n",
       "<table border=\"1\" class=\"dataframe\">\n",
       "  <thead>\n",
       "    <tr style=\"text-align: right;\">\n",
       "      <th></th>\n",
       "      <th></th>\n",
       "      <th>Uber Mean Travel Time</th>\n",
       "      <th>Green Line Mean Travel Time</th>\n",
       "      <th>Orange Line Mean Travel Time</th>\n",
       "      <th>Blue Bike Average Time</th>\n",
       "      <th>Blue Bike Mean Travel Time</th>\n",
       "    </tr>\n",
       "    <tr>\n",
       "      <th>Origin Display Name</th>\n",
       "      <th>Destination Display Name</th>\n",
       "      <th></th>\n",
       "      <th></th>\n",
       "      <th></th>\n",
       "      <th></th>\n",
       "      <th></th>\n",
       "    </tr>\n",
       "  </thead>\n",
       "  <tbody>\n",
       "    <tr>\n",
       "      <td rowspan=\"2\" valign=\"top\">1534 Tremont St, Roxbury Crossing, MA</td>\n",
       "      <td>360 Huntington Ave, Boston, MA</td>\n",
       "      <td>481.000000</td>\n",
       "      <td>1243.6</td>\n",
       "      <td>1489.8</td>\n",
       "      <td>1185.167335</td>\n",
       "      <td>1185.167335</td>\n",
       "    </tr>\n",
       "    <tr>\n",
       "      <td>40 Leon Street, Fenway/Kenmore, Boston</td>\n",
       "      <td>310.333333</td>\n",
       "      <td>1663.6</td>\n",
       "      <td>1444.8</td>\n",
       "      <td>1140.167335</td>\n",
       "      <td>1140.167335</td>\n",
       "    </tr>\n",
       "  </tbody>\n",
       "</table>\n",
       "</div>"
      ],
      "text/plain": [
       "                                                                              Uber Mean Travel Time  \\\n",
       "Origin Display Name                   Destination Display Name                                        \n",
       "1534 Tremont St, Roxbury Crossing, MA 360 Huntington Ave, Boston, MA                     481.000000   \n",
       "                                      40 Leon Street, Fenway/Kenmore, Boston             310.333333   \n",
       "\n",
       "                                                                              Green Line Mean Travel Time  \\\n",
       "Origin Display Name                   Destination Display Name                                              \n",
       "1534 Tremont St, Roxbury Crossing, MA 360 Huntington Ave, Boston, MA                               1243.6   \n",
       "                                      40 Leon Street, Fenway/Kenmore, Boston                       1663.6   \n",
       "\n",
       "                                                                              Orange Line Mean Travel Time  \\\n",
       "Origin Display Name                   Destination Display Name                                               \n",
       "1534 Tremont St, Roxbury Crossing, MA 360 Huntington Ave, Boston, MA                                1489.8   \n",
       "                                      40 Leon Street, Fenway/Kenmore, Boston                        1444.8   \n",
       "\n",
       "                                                                              Blue Bike Average Time  \\\n",
       "Origin Display Name                   Destination Display Name                                         \n",
       "1534 Tremont St, Roxbury Crossing, MA 360 Huntington Ave, Boston, MA                     1185.167335   \n",
       "                                      40 Leon Street, Fenway/Kenmore, Boston             1140.167335   \n",
       "\n",
       "                                                                              Blue Bike Mean Travel Time  \n",
       "Origin Display Name                   Destination Display Name                                            \n",
       "1534 Tremont St, Roxbury Crossing, MA 360 Huntington Ave, Boston, MA                         1185.167335  \n",
       "                                      40 Leon Street, Fenway/Kenmore, Boston                 1140.167335  "
      ]
     },
     "execution_count": 31,
     "metadata": {},
     "output_type": "execute_result"
    }
   ],
   "source": [
    "mh_neu.groupby(['Origin Display Name', 'Destination Display Name']).mean()"
   ]
  },
  {
   "cell_type": "code",
   "execution_count": 32,
   "metadata": {},
   "outputs": [
    {
     "data": {
      "image/png": "[encoded data removed]",
      "text/plain": [
       "<Figure size 1080x720 with 1 Axes>"
      ]
     },
     "metadata": {
      "needs_background": "light"
     },
     "output_type": "display_data"
    }
   ],
   "source": [
    "import matplotlib.pyplot as plt\n",
    "\n",
    "\n",
    "neuGraph=neu_mh.groupby('Destination Display Name').mean()\n",
    "\n",
    "\n",
    "# df.plot(x=\"X\", y=[\"A\", \"B\", \"C\"], kind=\"bar\")\n",
    "ax = neuGraph[['Uber Mean Travel Time','Green Line Mean Travel Time', 'Orange Line Mean Travel Time',\n",
    "              'Blue Bike Mean Travel Time']].plot(kind='bar', title='Travel Time By Mode from NEU to MH', figsize=(15,10), legend= True,\n",
    "                                              color=['black', 'green', 'orange', 'blue'])\n",
    "\n",
    "ax.set_ylabel('Time (secs)')\n",
    "ax.set_xticklabels(neuGraph.index, rotation=0)\n",
    "plt.show()"
   ]
  },
  {
   "cell_type": "code",
   "execution_count": 33,
   "metadata": {},
   "outputs": [
    {
     "data": {
      "image/png": "[encoded data removed]",
      "text/plain": [
       "<Figure size 1080x720 with 1 Axes>"
      ]
     },
     "metadata": {
      "needs_background": "light"
     },
     "output_type": "display_data"
    }
   ],
   "source": [
    "mhGraph=mh_neu.groupby('Destination Display Name').mean()\n",
    "\n",
    "\n",
    "# df.plot(x=\"X\", y=[\"A\", \"B\", \"C\"], kind=\"bar\")\n",
    "ax = mhGraph[['Uber Mean Travel Time','Green Line Mean Travel Time', 'Orange Line Mean Travel Time',\n",
    "              'Blue Bike Mean Travel Time']].plot(kind='bar', title='Travel Time By Mode from 1534 Tremont St, Roxbury Crossing to NEU', figsize=(15,10), legend= True,\n",
    "                                              color=['black', 'green', 'orange', 'blue'])\n",
    "\n",
    "ax.set_ylabel('Time (secs)')\n",
    "ax.set_xticklabels(mhGraph.index, rotation=0)\n",
    "plt.show()\n",
    "\n",
    "\n",
    "\n",
    "\n"
   ]
  },
  {
   "cell_type": "markdown",
   "metadata": {
    "colab_type": "text",
    "id": "tXg4vfc76ARN"
   },
   "source": [
    "### 3.3. Model Construction\n",
    "* If you proposed hypotheses, conduct your hypothesis tests\n",
    "* For your machine learning question(s), split data into training, validation, and testing sets (or use cross-validation)\n",
    "* Apply machine learning algorithms (apply at least three algorithms)\n",
    "* Train your algorithms"
   ]
  },
  {
   "cell_type": "code",
   "execution_count": null,
   "metadata": {},
   "outputs": [],
   "source": [
    "def features_and_target(df):\n",
    "      return df.drop(\"target\", axis = 1), df['target']"
   ]
  },
  {
   "cell_type": "code",
   "execution_count": null,
   "metadata": {},
   "outputs": [],
   "source": [
    "features, target = features_and_target(uber_tips_ds.sample(10000))"
   ]
  },
  {
   "cell_type": "code",
   "execution_count": null,
   "metadata": {},
   "outputs": [],
   "source": [
    "def split_the_dataset():\n",
    "    X_train, X_test, y_train, y_test = train_test_split(features, target, random_state=3000)  \n",
    "    return X_train, X_test, y_train, y_test\n"
   ]
  },
  {
   "cell_type": "code",
   "execution_count": null,
   "metadata": {},
   "outputs": [],
   "source": [
    "X_train, X_test, y_train, y_test = split_the_dataset()"
   ]
  },
  {
   "cell_type": "code",
   "execution_count": null,
   "metadata": {},
   "outputs": [],
   "source": [
    "estimators = {\n",
    "    'LinearRegression': LinearRegression().fit(X=X_train, y=y_train), \n",
    "    'Ridge': Ridge().fit(X=X_train, y=y_train),\n",
    "    'Lasso': Lasso().fit(X=X_train, y=y_train),\n",
    "    'KNeighborsRegressor':  KNeighborsRegressor().fit(X=X_train, y=y_train),\n",
    "    'SVR': SVR(gamma='scale', C=1).fit(X=X_train, y=y_train)}"
   ]
  },
  {
   "cell_type": "code",
   "execution_count": null,
   "metadata": {},
   "outputs": [],
   "source": [
    "def regressors_percentage_split():\n",
    "    for key, value in estimators.items():\n",
    "        print(key)\n",
    "        print(\"    R-squared value for training set: \", r2_score(y_train, value.predict(X_train)))\n",
    "        print(\"    R-squared value for testing set: \", r2_score(y_test, value.predict(X_test)))\n",
    "    "
   ]
  },
  {
   "cell_type": "code",
   "execution_count": null,
   "metadata": {},
   "outputs": [],
   "source": [
    "regressors_percentage_split()"
   ]
  },
  {
   "cell_type": "markdown",
   "metadata": {
    "colab_type": "text",
    "id": "-rzOr32Z6ARN"
   },
   "source": [
    "### 3.4. Model Evaluation\n",
    "* Evaluate the performance of your algorithms on appropriate evaluation metrics, using your validation set\n",
    "* Interpret your results from multiple models (and hypothesis tests, if any)"
   ]
  },
  {
   "cell_type": "markdown",
   "metadata": {
    "colab_type": "text",
    "id": "llw9GTFU6ARN"
   },
   "source": [
    "### 3.5. Model Optimization\n",
    "* Tune your models using appropriate hyperparameters\n",
    "* Explain why you are doing this (e.g., to avoid overfitting, etc.)"
   ]
  },
  {
   "cell_type": "code",
   "execution_count": null,
   "metadata": {},
   "outputs": [],
   "source": [
    "def preprocessed_regression():\n",
    "    #create the scaler\n",
    "    scaler = MinMaxScaler()\n",
    "    #fit the scaler to the training data(features only)\n",
    "    scaler.fit(X_train) \n",
    "    #transform X_train and X_test based on the (same) scaler\n",
    "    X_train_scaled = scaler.transform(X_train) \n",
    "    X_test_scaled = scaler.transform(X_test) \n",
    "\n",
    "    for key, value in estimators.items():\n",
    "        print(key)\n",
    "        \n",
    "        if 'Linear' in key:\n",
    "            model = LinearRegression().fit(X=X_train_scaled, y=y_train)\n",
    "        if 'Ridge' in key:\n",
    "            model = Ridge().fit(X=X_train_scaled, y=y_train)\n",
    "        if 'Lasso' in key:\n",
    "            model = Lasso().fit(X=X_train_scaled, y=y_train)\n",
    "        if 'KNeighborsRegressor' in key:\n",
    "            model = KNeighborsRegressor().fit(X=X_train_scaled, y=y_train)\n",
    "        if 'SVR' in key:\n",
    "            model = SVR(gamma='scale', C=1).fit(X=X_train_scaled, y=y_train)\n",
    "\n",
    "        print(\"    R^2 for training set: \", r2_score(y_train, model.predict(X_train_scaled)))\n",
    "        print(\"    R^2 for testing set: \", r2_score(y_test, model.predict(X_test_scaled)))\n",
    "    return X_train_scaled, X_test_scaled \n",
    "   "
   ]
  },
  {
   "cell_type": "code",
   "execution_count": null,
   "metadata": {},
   "outputs": [],
   "source": [
    "    X_train_scaled, X_test_scaled = preprocessed_regression()"
   ]
  },
  {
   "cell_type": "code",
   "execution_count": null,
   "metadata": {},
   "outputs": [],
   "source": [
    "def RFE_feature_selection():\n",
    "    select = RFE(DecisionTreeRegressor(random_state = 3000), n_features_to_select = 3)\n",
    "    #fit the RFE selector to the training data\n",
    "    select.fit(X_train, y_train)\n",
    "\n",
    "    #transform training and testing sets so only the selected features are retained\n",
    "    X_train_selected = select.transform(X_train_scaled)\n",
    "    X_test_selected = select.transform(X_test_scaled)\n",
    "    model = LinearRegression().fit(X=X_train_selected, y=y_train)\n",
    "    print('Selected features after RFE:')\n",
    "    features_bool = np.array(select.support_)\n",
    "    cols = np.array(features.columns)\n",
    "    result = cols[features_bool]\n",
    "    [print(\"   \", i) for i in result ]\n",
    " \n",
    "    print(\"Linear Regression performance with selected features:\")\n",
    "    print(\"\\tR-squared value for training set: \", r2_score(y_train, model.predict(X_train_selected)))\n",
    "    print(\"\\tR-squared value for testing set: \", r2_score(y_test, model.predict(X_test_selected)))\n",
    "    return X_train_selected, X_test_selected"
   ]
  },
  {
   "cell_type": "code",
   "execution_count": null,
   "metadata": {},
   "outputs": [],
   "source": [
    "X_train_selected, X_test_selected = RFE_feature_selection()"
   ]
  },
  {
   "cell_type": "markdown",
   "metadata": {
    "colab_type": "text",
    "id": "HUFCSNaV6ARO"
   },
   "source": [
    "### 3.6. Model Testing\n",
    "* Test your tuned algorithms using your testing set"
   ]
  },
  {
   "cell_type": "code",
   "execution_count": null,
   "metadata": {},
   "outputs": [],
   "source": [
    "model = LinearRegression().fit(X=X_train, y=y_train)\n",
    "\n",
    "print(\"Original results:\")\n",
    "print(\"\\tR-squared value for training set: \", r2_score(y_train, model.predict(X_train)))\n",
    "print(\"\\tR-squared value for testing set: \", r2_score(y_test, model.predict(X_test)))\n",
    "\n",
    "\n",
    "model = LinearRegression().fit(X=X_train_selected, y=y_train)\n",
    "\n",
    "print(\"With selected features:\")\n",
    "print(\"\\tR-squared value for training set: \", r2_score(y_train, model.predict(X_train_selected)))\n",
    "print(\"\\tR-squared value for testing set: \", r2_score(y_test, model.predict(X_test_selected)))"
   ]
  },
  {
   "cell_type": "markdown",
   "metadata": {
    "colab_type": "text",
    "id": "ZcY99Uxf6ARO"
   },
   "source": [
    "<a id=\"4\"></a>\n",
    "<hr style=\"height:2px; border:none; color:black; background-color:black;\">"
   ]
  },
  {
   "cell_type": "markdown",
   "metadata": {
    "colab_type": "text",
    "id": "sGoVDJbF6ARP"
   },
   "source": [
    "## 4. DISCUSSION\n",
    "* Provide a summary of the steps you took to analyze your data and test your predictive model\n",
    "* Intepret your findings from 3.4., 3.5, and 3.6\n",
    "    * Which algorithms did you compare?\n",
    "        We compared Linear Regression, Ridge, Lasso, KNN, and SVR on our Uber Chicago data set\n",
    "    * Which algorithm(s) revealed best performance?\n",
    "        We determined that Linear Regression performed the best.\n",
    "    * Which algorithm(s) should be used for your predictive model?\n",
    "        Linear Regression should be used for our predictive model because it has the highest r^2 for our training set.\n",
    "* If you tested hypotheses, interpret the results. What does it mean to have significant/non-significant differences with regards to your data?\n",
    "\n",
    "#### Northeastern Transportation\n",
    "\n",
    "#### Machine Learning Uber Tips\n",
    "  We hypothesized that the longer the trip the larger the tip amount. Based off of our findings we found that trip time and duration were important features. We also found that there was a positive R^2 value for our features indicating a relation with longer trips and larger tips. Wedetermined that Linear Regression was the best model for our dataset. It had the highest R^2 value. We then used MinMaxScaler to optimize our models. We were then able to calculate the selected features that most impacted our target variable Tip they were Trip Seconds, Trip Miles, and Additional Charges.<br/><br/>\n",
    "\n",
    "\n",
    "* End this section with a conclusion paragraph containing some pointers for future work \n",
    "    *(e.g., get more data, perform another analysis, etc.)\n",
    "\n",
    "Future researchers should try and get more Uber pickup and dropoffs near campus. We were limited to using the Uber data provided by their site. The public data available grouped together many trips into one origin location and one destination location. For example any trip that was near ISEC was grouped into an ISEC trip location. Sometimes Uber would also limit trips recorded to one way. For example some stops going from Mission Hill to Northeastern had data but the same trip from the same location going in the reverse direction was unavailble. This was a limitation of Uber's publically available data. In the future you could create a business account for Uber and access data using their API. "
   ]
  },
  {
   "cell_type": "markdown",
   "metadata": {
    "colab_type": "text",
    "id": "4Wgs5bw96ARP"
   },
   "source": [
    "<a id=\"5\"></a>\n",
    "<hr style=\"height:2px; border:none; color:black; background-color:black;\">"
   ]
  },
  {
   "cell_type": "markdown",
   "metadata": {
    "colab_type": "text",
    "id": "m6cy_S8w6ARQ"
   },
   "source": [
    "### CONTRIBUTIONS\n",
    "* Describe each team member's contributions to the report (who did what in each section)\n",
    "* Remember this is a team effort!\n",
    "* Each member of your team will provide peer evaluation of other team members. Your final grade on the project will be based on those peer evaluations. "
   ]
  }
 ],
 "metadata": {
  "colab": {
   "collapsed_sections": [],
   "name": "DS3000_FP4_Section2_Group12.ipynb",
   "provenance": []
  },
  "kernelspec": {
   "display_name": "Python 3",
   "language": "python",
   "name": "python3"
  },
  "language_info": {
   "codemirror_mode": {
    "name": "ipython",
    "version": 3
   },
   "file_extension": ".py",
   "mimetype": "text/x-python",
   "name": "python",
   "nbconvert_exporter": "python",
   "pygments_lexer": "ipython3",
   "version": "3.7.4"
  }
 },
 "nbformat": 4,
 "nbformat_minor": 1
}
