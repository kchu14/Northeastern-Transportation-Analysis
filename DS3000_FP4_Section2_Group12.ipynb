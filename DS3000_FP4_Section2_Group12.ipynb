{
  "nbformat": 4,
  "nbformat_minor": 0,
  "metadata": {
    "kernelspec": {
      "display_name": "Python 3",
      "language": "python",
      "name": "python3"
    },
    "language_info": {
      "codemirror_mode": {
        "name": "ipython",
        "version": 3
      },
      "file_extension": ".py",
      "mimetype": "text/x-python",
      "name": "python",
      "nbconvert_exporter": "python",
      "pygments_lexer": "ipython3",
      "version": "3.7.4"
    },
    "colab": {
      "name": "DS3000_FP4_Section2_Group12.ipynb",
      "provenance": [],
      "collapsed_sections": []
    }
  },
  "cells": [
    {
      "cell_type": "markdown",
      "metadata": {
        "id": "osRx8CLo6ARD",
        "colab_type": "text"
      },
      "source": [
        "<center> <h2> DS 3000 - Fall 2019</h2> </center>\n",
        "<center> <h3> DS Report </h3> </center>\n"
      ]
    },
    {
      "cell_type": "markdown",
      "metadata": {
        "id": "ONWPvHJl6ARF",
        "colab_type": "text"
      },
      "source": [
        "<center> <h1> Northeastern Transportation Analysis</h1> </center>\n",
        "<center><h4>Benjamin Jacobson, Divit Koradia, Kyle Chu</h4></center>\n"
      ]
    },
    {
      "cell_type": "markdown",
      "metadata": {
        "id": "Ip8rLjrw6ARF",
        "colab_type": "text"
      },
      "source": [
        "\n",
        "\n",
        "  "
      ]
    },
    {
      "cell_type": "markdown",
      "metadata": {
        "id": "QA0PyejY6ARG",
        "colab_type": "text"
      },
      "source": [
        "<hr style=\"height:2px; border:none; color:black; background-color:black;\">"
      ]
    },
    {
      "cell_type": "markdown",
      "metadata": {
        "id": "VhLJ1Xot6ARG",
        "colab_type": "text"
      },
      "source": [
        "#### Executive Summary:\n",
        "\n",
        "Add your summary here (100-150 words)\n",
        "\n",
        "Provide a brief summary of your project. After reading this executive summary, your readers should have a rough understanding of what you did in this project. You can think of this summary in terms of the four sections of the report and write 1-2 sentences describing each section.\n",
        "\n"
      ]
    },
    {
      "cell_type": "markdown",
      "metadata": {
        "id": "u2b-SS807KAC",
        "colab_type": "text"
      },
      "source": [
        " Have you ever wondered what is the best way to get from Mission Hill to Northeastern campus and vice versa? When you’re in a rush calculating the time and cost of different transportation types can be tedious. Our goal is to find an answer to the best transportation type in terms of speed and cost. We will be looking at MBTA, Uber, and Bluebikes. We will be comparing the average time and cost it takes people to make it from Mission Hill to Northeastern and vice versa. Our datasets are pulled from the different transportation types websites. The data includes the time it takes to complete trips, so for Uber the time from pickup to drop off, Bluebikes it’s time for a rider to go from one station to another, and for MBTA Roxbury Crossing to Ruggles and Brigham Circle to Northeastern. Bluebikes and Uber also have the cost of each trip. MBTA and Bluebikes also have the option for a fixed cost ride structure where you can pay one price for the whole trip or use a monthly or yearly pass. We plan to measure from a point on campus to a point on Mission Hill. We will take into account average / estimated walking speeds from a station to the point.\n"
      ]
    },
    {
      "cell_type": "markdown",
      "metadata": {
        "id": "1iP4g7zA6ARH",
        "colab_type": "text"
      },
      "source": [
        "<hr style=\"height:2px; border:none; color:black; background-color:black;\">"
      ]
    },
    {
      "cell_type": "markdown",
      "metadata": {
        "id": "boTet8OY6ARH",
        "colab_type": "text"
      },
      "source": [
        "## Outline\n",
        "1. <a href='#1'>INTRODUCTION</a>\n",
        "2. <a href='#2'>METHOD</a>\n",
        "3. <a href='#3'>RESULTS</a>\n",
        "4. <a href='#4'>DISCUSSION</a>"
      ]
    },
    {
      "cell_type": "markdown",
      "metadata": {
        "id": "Z-2Trmbo6ARH",
        "colab_type": "text"
      },
      "source": [
        "<a id=\"1\"></a>\n",
        "<hr style=\"height:2px; border:none; color:black; background-color:black;\">"
      ]
    },
    {
      "cell_type": "markdown",
      "metadata": {
        "id": "lNZem1t06ARI",
        "colab_type": "text"
      },
      "source": [
        "## 1. INTRODUCTION"
      ]
    },
    {
      "cell_type": "markdown",
      "metadata": {
        "id": "jok0VLR_6ARI",
        "colab_type": "text"
      },
      "source": [
        "In this section, orient your readers to your project. You've already written some of these in previous deliverables. Based on your final analysis, revise your problem statement and write a concise introduction section. This section should touch upon the following points, but should be written in full paragraphs. Your writing should incorporate all of these points (and more if you like) in a coherent way. Remember that you are trying to convince your readers that this is an important problem to tackle. \n",
        "\n",
        "Problem Statement\n",
        "* Describe the problem you would like to tackle. \n",
        "* What is the topic of your project? \n",
        "* What do you want to learn about it?\n",
        "\n",
        "Significance of the Problem\n",
        "* Why is it important to tackle this problem in your project?\n",
        "* In what ways could the insights from this project be useful?\n",
        "* Has there been previous work on your topic? Do some research into your topic. Cite your sources appropriately. You can use the numbered reference format or APA (if you are more comfortable with it).\n",
        "\n",
        "Questions/Hypothesis\n",
        "* End this section with a list of questions and hypotheses\n",
        "* You should tie these questions/hypotheses to the problem statement and its significance\n",
        "    * e.g. Given the aforementioned problem and its importance, we set out to tackle the following questions:\n",
        "    \n",
        "**Requirement:**\n",
        "* You should have at least one question tapping into the comparison of various machine learning algorithms in predicting your target variable from your features variables."
      ]
    },
    {
      "cell_type": "markdown",
      "metadata": {
        "id": "1JGgr0ZW6ARJ",
        "colab_type": "text"
      },
      "source": [
        "<a id=\"2\"></a>\n",
        "<hr style=\"height:2px; border:none; color:black; background-color:black;\">"
      ]
    },
    {
      "cell_type": "markdown",
      "metadata": {
        "id": "8z7TxRur6ARJ",
        "colab_type": "text"
      },
      "source": [
        "## 2. METHOD"
      ]
    },
    {
      "cell_type": "markdown",
      "metadata": {
        "id": "E_OPQa0I6ARK",
        "colab_type": "text"
      },
      "source": [
        "### 2.1. Data Acquisition\n",
        "\n",
        "* Describe where you obtained your data. Provide a link to the original source. \n",
        "* If you scraped your data, include your code as a script file.\n",
        "* Your data should be stored in an online repository (e.g., GitHub) and your code should retrieve your data from that online resource. You can read csv files from the Web in the same way that you read files from local drive.\n",
        "* Describe the dataset and variables. What do variables represent?\n"
      ]
    },
    {
      "cell_type": "markdown",
      "metadata": {
        "id": "qBu9v-HN6ARK",
        "colab_type": "text"
      },
      "source": [
        "### 2.2. Variables\n",
        "* If you are testing hypotheses, what are your IVs and DVs?\n",
        "* For your predictive models, what are your features and target variables?\n"
      ]
    },
    {
      "cell_type": "markdown",
      "metadata": {
        "id": "6oa6QpNR6ARL",
        "colab_type": "text"
      },
      "source": [
        "### 2.3. Data Analysis\n",
        "* Specifically describe your predictive model. What outcome variable are you going to predict from what feature variables?\n",
        "* Describe whether this is a supervised or unsupervised learning problem. Also identify the sub-category of the learning task (e.g. classification).\n",
        "* What machine learning algorithms are you going to use? Why?"
      ]
    },
    {
      "cell_type": "markdown",
      "metadata": {
        "id": "ZC6qAG3F6ARL",
        "colab_type": "text"
      },
      "source": [
        "<a id=\"3\"></a>\n",
        "<hr style=\"height:2px; border:none; color:black; background-color:black;\">"
      ]
    },
    {
      "cell_type": "markdown",
      "metadata": {
        "id": "LwYXVK-O6ARL",
        "colab_type": "text"
      },
      "source": [
        "## 3. RESULTS"
      ]
    },
    {
      "cell_type": "markdown",
      "metadata": {
        "id": "gfTrIL8-6ARM",
        "colab_type": "text"
      },
      "source": [
        "### 3.1. Data Wrangling\n",
        "* Perform simple data cleaning (delete extra columns, deal with NA values, etc.)\n",
        "* Perform data wrangling to extract your features and target values (e.g., grouping your dataframe by columns, applying functions to format dataframes, etc.)\n",
        "* Preprocess your variables (e.g., scaling/transforming feature variables to normalize them)\n",
        "* Feature extraction (dummy variables, new features from existing features, etc.)\n",
        "* Use one feature selection technique to select a subset of your original features\n"
      ]
    },
    {
      "cell_type": "markdown",
      "metadata": {
        "id": "Sl0nr0LY6ARM",
        "colab_type": "text"
      },
      "source": [
        "### 3.2. Data Exploration\n",
        "* Generate appropriate data visualizations for your key variables identified in the previous section\n",
        "* You should have at least three visualizations (and at least two different visualization types)\n",
        "* For each visualization provide an explanation regarding the variables involved and an interpretation of the graph.\n",
        "* If you are using Plotly, insert your visualizations as images as well (upload the graph images to an online source, e.g. github, and link those in Jupyter Notebook)\n"
      ]
    },
    {
      "cell_type": "markdown",
      "metadata": {
        "id": "tXg4vfc76ARN",
        "colab_type": "text"
      },
      "source": [
        "### 3.3. Model Construction\n",
        "* If you proposed hypotheses, conduct your hypothesis tests\n",
        "* For your machine learning question(s), split data into training, validation, and testing sets (or use cross-validation)\n",
        "* Apply machine learning algorithms (apply at least three algorithms)\n",
        "* Train your algorithms"
      ]
    },
    {
      "cell_type": "markdown",
      "metadata": {
        "id": "-rzOr32Z6ARN",
        "colab_type": "text"
      },
      "source": [
        "### 3.4. Model Evaluation\n",
        "* Evaluate the performance of your algorithms on appropriate evaluation metrics, using your validation set\n",
        "* Interpret your results from multiple models (and hypothesis tests, if any)"
      ]
    },
    {
      "cell_type": "markdown",
      "metadata": {
        "id": "llw9GTFU6ARN",
        "colab_type": "text"
      },
      "source": [
        "### 3.5. Model Optimization\n",
        "* Tune your models using appropriate hyperparameters\n",
        "* Explain why you are doing this (e.g., to avoid overfitting, etc.)"
      ]
    },
    {
      "cell_type": "markdown",
      "metadata": {
        "id": "HUFCSNaV6ARO",
        "colab_type": "text"
      },
      "source": [
        "### 3.6. Model Testing\n",
        "* Test your tuned algorithms using your testing set"
      ]
    },
    {
      "cell_type": "markdown",
      "metadata": {
        "id": "ZcY99Uxf6ARO",
        "colab_type": "text"
      },
      "source": [
        "<a id=\"4\"></a>\n",
        "<hr style=\"height:2px; border:none; color:black; background-color:black;\">"
      ]
    },
    {
      "cell_type": "markdown",
      "metadata": {
        "id": "sGoVDJbF6ARP",
        "colab_type": "text"
      },
      "source": [
        "## 4. DISCUSSION\n",
        "* Provide a summary of the steps you took to analyze your data and test your predictive model\n",
        "* Intepret your findings from 3.4., 3.5, and 3.6\n",
        "    * Which algorithms did you compare?\n",
        "    * Which algorithm(s) revealed best performance?\n",
        "    * Which algorithm(s) should be used for your predictive model?\n",
        "* If you tested hypotheses, interpret the results. What does it mean to have significant/non-significant differences with regards to your data?\n",
        "\n",
        "\n",
        "* End this section with a conclusion paragraph containing some pointers for future work \n",
        "    *(e.g., get more data, perform another analysis, etc.)"
      ]
    },
    {
      "cell_type": "markdown",
      "metadata": {
        "id": "4Wgs5bw96ARP",
        "colab_type": "text"
      },
      "source": [
        "<a id=\"5\"></a>\n",
        "<hr style=\"height:2px; border:none; color:black; background-color:black;\">"
      ]
    },
    {
      "cell_type": "markdown",
      "metadata": {
        "id": "m6cy_S8w6ARQ",
        "colab_type": "text"
      },
      "source": [
        "### CONTRIBUTIONS\n",
        "* Describe each team member's contributions to the report (who did what in each section)\n",
        "* Remember this is a team effort!\n",
        "* Each member of your team will provide peer evaluation of other team members. Your final grade on the project will be based on those peer evaluations. "
      ]
    }
  ]
}